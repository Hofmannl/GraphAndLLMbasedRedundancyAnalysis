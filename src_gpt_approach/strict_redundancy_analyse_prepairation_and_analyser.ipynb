{
 "cells": [
  {
   "cell_type": "markdown",
   "metadata": {},
   "source": [
    "# Here we prepair the human analys for the results of GPT for the input with textual representation and annotations"
   ]
  },
  {
   "cell_type": "code",
   "execution_count": 2,
   "metadata": {},
   "outputs": [],
   "source": [
    "from support_functions.load_json_chatgpt_results import load_chat_gpt_results\n",
    "from support_functions.excel_helper import prepaire_excel_data\n",
    "from support_functions.load_data import load_datasets_with_annotations as loading\n",
    "from support_functions.data_transformations import convert_annotation_dataset\n",
    "\n",
    "import json\n",
    "import pandas as pd\n",
    "import copy\n",
    "from enum import Enum\n",
    "from ordered_set import OrderedSet"
   ]
  },
  {
   "cell_type": "code",
   "execution_count": 3,
   "metadata": {},
   "outputs": [],
   "source": [
    "class RedundancyType(Enum):\n",
    "    MAIN_PART_REDUNDANCY = \"mainPart\"\n",
    "    BENEFIT_REDUNDANCY = \"benefit\"\n",
    "    MAIN_PART_BENEFIT_REDUNDANCY = \"mainPart-benefit\""
   ]
  },
  {
   "cell_type": "code",
   "execution_count": 4,
   "metadata": {},
   "outputs": [],
   "source": [
    "def clean_convertable(filtered_rows):\n",
    "        convertable = json.loads(filtered_rows.to_json(orient=\"records\"))[0]\n",
    "        del convertable[\"Project Identifier\"]\n",
    "        del convertable[\"User Story 1 Text with Markers\"]\n",
    "        del convertable[\"User Story 2 Text with Markers\"]\n",
    "        del convertable[\"Total Redundancy Clause\"]\n",
    "        del convertable[\"USID 1\"]\n",
    "        del convertable[\"USID 2\"]\n",
    "        return convertable"
   ]
  },
  {
   "cell_type": "code",
   "execution_count": 5,
   "metadata": {},
   "outputs": [],
   "source": [
    "def calc_repair_avg(json_data: list[dict]) -> int:\n",
    "    count: int = 0\n",
    "    i: int = 0\n",
    "    temp: int = None\n",
    "    for usid_redundancy_key, item in json_data.items():\n",
    "        model = usid_redundancy_key\n",
    "        for sub_key, sub_item in item.items():\n",
    "            data_set = sub_key\n",
    "            for _ in sub_item:\n",
    "                temp = int(_[\"repairRuns\"])\n",
    "                if temp > 0:\n",
    "                    count += temp\n",
    "                i += 1            \n",
    "    return round(count / i, 2)"
   ]
  },
  {
   "cell_type": "code",
   "execution_count": 6,
   "metadata": {},
   "outputs": [],
   "source": [
    "def calc_total_repair(json_data: list[dict]) -> int:\n",
    "    count: int = 0\n",
    "    temp: int = None\n",
    "    for usid_redundancy_key, item in json_data.items():\n",
    "        model = usid_redundancy_key\n",
    "        for sub_key, sub_item in item.items():\n",
    "            data_set = sub_key\n",
    "            for _ in sub_item:\n",
    "                temp = int(_[\"repairRuns\"])\n",
    "                if temp > 0:\n",
    "                    count += temp\n",
    "    return count"
   ]
  },
  {
   "cell_type": "markdown",
   "metadata": {},
   "source": [
    "## Getting Graph-Transformation Data"
   ]
  },
  {
   "cell_type": "code",
   "execution_count": 7,
   "metadata": {},
   "outputs": [
    {
     "data": {
      "text/html": [
       "<div>\n",
       "<style scoped>\n",
       "    .dataframe tbody tr th:only-of-type {\n",
       "        vertical-align: middle;\n",
       "    }\n",
       "\n",
       "    .dataframe tbody tr th {\n",
       "        vertical-align: top;\n",
       "    }\n",
       "\n",
       "    .dataframe thead th {\n",
       "        text-align: right;\n",
       "    }\n",
       "</style>\n",
       "<table border=\"1\" class=\"dataframe\">\n",
       "  <thead>\n",
       "    <tr style=\"text-align: right;\">\n",
       "      <th></th>\n",
       "      <th>Identifier</th>\n",
       "      <th>Project Identifier</th>\n",
       "      <th>USID 1</th>\n",
       "      <th>User Story 1 Text with Markers</th>\n",
       "      <th>USID 2</th>\n",
       "      <th>User Story 2 Text with Markers</th>\n",
       "      <th>Total Redundancy Clause</th>\n",
       "      <th>Main Part Redundancy Clause</th>\n",
       "      <th>Benefit Part Redundancy Clause</th>\n",
       "      <th>Main Part Partial</th>\n",
       "      <th>Main Part Full</th>\n",
       "      <th>Benefit Partial</th>\n",
       "      <th>Benefit Full</th>\n",
       "    </tr>\n",
       "  </thead>\n",
       "  <tbody>\n",
       "    <tr>\n",
       "      <th>1</th>\n",
       "      <td>g19user_story_1021_AND_user_story_1036</td>\n",
       "      <td>g19</td>\n",
       "      <td>1021</td>\n",
       "      <td>As an OlderPerson, I want to #use# #ALFRED# as...</td>\n",
       "      <td>1036</td>\n",
       "      <td>As an OlderPerson, I want to #use# #ALFRED# to...</td>\n",
       "      <td>2</td>\n",
       "      <td>2</td>\n",
       "      <td>0</td>\n",
       "      <td>True</td>\n",
       "      <td>False</td>\n",
       "      <td>False</td>\n",
       "      <td>False</td>\n",
       "    </tr>\n",
       "    <tr>\n",
       "      <th>2</th>\n",
       "      <td>g19user_story_1021_AND_user_story_1056</td>\n",
       "      <td>g19</td>\n",
       "      <td>1021</td>\n",
       "      <td>As an OlderPerson, I want to #use# #ALFRED# as...</td>\n",
       "      <td>1056</td>\n",
       "      <td>As an OlderPerson, I want to #use# #ALFRED# fo...</td>\n",
       "      <td>2</td>\n",
       "      <td>2</td>\n",
       "      <td>0</td>\n",
       "      <td>True</td>\n",
       "      <td>False</td>\n",
       "      <td>False</td>\n",
       "      <td>False</td>\n",
       "    </tr>\n",
       "    <tr>\n",
       "      <th>3</th>\n",
       "      <td>g19user_story_1021_AND_user_story_1057</td>\n",
       "      <td>g19</td>\n",
       "      <td>1021</td>\n",
       "      <td>As an OlderPerson, I want to #use# #ALFRED# as...</td>\n",
       "      <td>1057</td>\n",
       "      <td>As an OlderPerson, I want to #use# #ALFRED# fo...</td>\n",
       "      <td>2</td>\n",
       "      <td>2</td>\n",
       "      <td>0</td>\n",
       "      <td>True</td>\n",
       "      <td>False</td>\n",
       "      <td>False</td>\n",
       "      <td>False</td>\n",
       "    </tr>\n",
       "  </tbody>\n",
       "</table>\n",
       "</div>"
      ],
      "text/plain": [
       "                               Identifier Project Identifier  USID 1  \\\n",
       "1  g19user_story_1021_AND_user_story_1036                g19    1021   \n",
       "2  g19user_story_1021_AND_user_story_1056                g19    1021   \n",
       "3  g19user_story_1021_AND_user_story_1057                g19    1021   \n",
       "\n",
       "                      User Story 1 Text with Markers  USID 2  \\\n",
       "1  As an OlderPerson, I want to #use# #ALFRED# as...    1036   \n",
       "2  As an OlderPerson, I want to #use# #ALFRED# as...    1056   \n",
       "3  As an OlderPerson, I want to #use# #ALFRED# as...    1057   \n",
       "\n",
       "                      User Story 2 Text with Markers  Total Redundancy Clause  \\\n",
       "1  As an OlderPerson, I want to #use# #ALFRED# to...                        2   \n",
       "2  As an OlderPerson, I want to #use# #ALFRED# fo...                        2   \n",
       "3  As an OlderPerson, I want to #use# #ALFRED# fo...                        2   \n",
       "\n",
       "   Main Part Redundancy Clause  Benefit Part Redundancy Clause  \\\n",
       "1                            2                               0   \n",
       "2                            2                               0   \n",
       "3                            2                               0   \n",
       "\n",
       "   Main Part Partial  Main Part Full  Benefit Partial  Benefit Full  \n",
       "1               True           False            False         False  \n",
       "2               True           False            False         False  \n",
       "3               True           False            False         False  "
      ]
     },
     "metadata": {},
     "output_type": "display_data"
    }
   ],
   "source": [
    "excel_data_graph_approach = prepaire_excel_data(\"Framework\")\n",
    "display(excel_data_graph_approach.head(3))"
   ]
  },
  {
   "cell_type": "markdown",
   "metadata": {},
   "source": [
    "## Graph-Transformation Results and GPT Text Results"
   ]
  },
  {
   "cell_type": "code",
   "execution_count": null,
   "metadata": {},
   "outputs": [],
   "source": [
    "directories_to_ignore_text:list = [\"text-annoations-redundancy-model-gpt-4o-mini-2024-07-18\", \"annoations-redundancy-model-gpt-4o\", \n",
    "                              \"annoations-redundancy-model-gpt-4o-mini-2024-07-18\", \"annoations-redundancy-model-gpt-3.5-turbo-0125\", \n",
    "                              \"text-annoations-redundancy-model-gpt-4o-mini-2024-07-18\", \"annoations-redundancy-model-gpt-4o\", \n",
    "                              \"text-redundancy-model-gpt-4o-mini-2024-07-18\", \"annoations-redundancy-model-gpt-3.5-turbo-0125\"]\n",
    "gpt_results_text: dict[dict[str, list[dict]]] = load_chat_gpt_results(directories_to_ignore_text)\n",
    "gpt_result_keys_text: list[str] = list(gpt_results_text.keys())\n",
    "gpt_result_json_keys_text = {\n",
    "    outer_key: list(inner_dict.keys())\n",
    "    for outer_key, inner_dict in gpt_results_text.items()\n",
    "}"
   ]
  },
  {
   "cell_type": "markdown",
   "metadata": {},
   "source": [
    "### Basic analyses"
   ]
  },
  {
   "cell_type": "code",
   "execution_count": 9,
   "metadata": {},
   "outputs": [],
   "source": [
    "redundant_main_part_text: int = 0\n",
    "redundant_benefit_text: int = 0\n",
    "no_redundancies_main_part_text: int = 0\n",
    "no_redundancies_benefit_text: int = 0"
   ]
  },
  {
   "cell_type": "code",
   "execution_count": 10,
   "metadata": {},
   "outputs": [
    {
     "name": "stdout",
     "output_type": "stream",
     "text": [
      "text-redundancy-model-gpt-4o-mini-2024-07-18, 00_g19.json, Strict Redundancies in Main Part: 1788, No Strict Reduncancies in Main Part: 7410, Strict Redundancies in Benefit: 46, No Strict Redundancies in Benefit: 9152\n",
      "text-redundancy-model-gpt-4o-mini-2024-07-18, 00_g22.json, Strict Redundancies in Main Part: 541, No Strict Reduncancies in Main Part: 2860, Strict Redundancies in Benefit: 124, No Strict Redundancies in Benefit: 3277\n"
     ]
    }
   ],
   "source": [
    "for usid_redundancy_key, item in gpt_results_text.items():\n",
    "    model = usid_redundancy_key\n",
    "    for sub_key, sub_item in item.items():\n",
    "        data_set = sub_key\n",
    "        for _ in sub_item:\n",
    "            if bool(_[\"mainPartRedundancies\"][\"mainPartRedundancy\"]):\n",
    "                redundant_main_part_text += 1\n",
    "            else:\n",
    "                no_redundancies_main_part_text += 1\n",
    "            if bool(_[\"benefitRedundancies\"][\"benefitRedundancy\"]):\n",
    "                redundant_benefit_text += 1\n",
    "            else:\n",
    "                no_redundancies_benefit_text += 1\n",
    "        print(f\"{model}, {data_set}, Strict Redundancies in Main Part: {redundant_main_part_text}, No Strict Reduncancies in Main Part: {no_redundancies_main_part_text}, Strict Redundancies in Benefit: {redundant_benefit_text}, No Strict Redundancies in Benefit: {no_redundancies_benefit_text}\")\n",
    "        redundant_main_part_text = no_redundancies_main_part_text = redundant_benefit_text = no_redundancies_benefit_text = 0"
   ]
  },
  {
   "cell_type": "code",
   "execution_count": 11,
   "metadata": {},
   "outputs": [
    {
     "name": "stdout",
     "output_type": "stream",
     "text": [
      "0.03\n",
      "384\n"
     ]
    }
   ],
   "source": [
    "print(calc_repair_avg(gpt_results_text))\n",
    "print(calc_total_repair(gpt_results_text))"
   ]
  },
  {
   "cell_type": "code",
   "execution_count": 12,
   "metadata": {},
   "outputs": [
    {
     "name": "stdout",
     "output_type": "stream",
     "text": [
      "[{'PID': '#G22#', 'USID': '1225', 'Text': 'As a PI, I want to properly record all metadata, so that I can ensure proper running of the project in case of staff changes.', 'Main Part': 'As a PI, I want to properly record all metadata', 'Benefit': 'I can ensure proper running of the project in case of staff changes', 'Triggers': {'Main Part': [['PI', 'properly record']], 'Benefit': []}, 'Targets': {'Main Part': [['properly record', 'all metadata']], 'Benefit': [['ensure', 'proper running'], ['changes', 'staff']]}, 'Contains': {'Main Part': [], 'Benefit': []}}, {'PID': '#G22#', 'USID': '1226', 'Text': 'As a researcher, I want to indicate where my data will be stored during the project and where after the project, so that it remains accessible during all stages of the data lifecycle.', 'Main Part': 'As a researcher, I want to indicate where my data will be stored during the project and where after the project', 'Benefit': 'it remains accessible during all stages of the data lifecycle', 'Triggers': {'Main Part': [['researcher', 'indicate']], 'Benefit': []}, 'Targets': {'Main Part': [['indicate', 'where'], ['indicate', 'where']], 'Benefit': [['stored', 'data']]}, 'Contains': {'Main Part': [], 'Benefit': [['where', 'data'], ['project', 'data'], ['data lifecycle', 'all stages'], ['project', 'data']]}}, {'PID': '#G22#', 'USID': '1227', 'Text': 'As a researcher, I want to import metadata that I captured with a metadata tool, so that I do not have to capture it again in a DMP.', 'Main Part': 'As a researcher, I want to import metadata that I captured with a metadata tool', 'Benefit': 'I do not have to capture it again in a DMP', 'Triggers': {'Main Part': [['researcher', 'import']], 'Benefit': []}, 'Targets': {'Main Part': [['import', 'metadata']], 'Benefit': []}, 'Contains': {'Main Part': [], 'Benefit': []}}, {'PID': '#G22#', 'USID': '1228', 'Text': 'As a data manager, I want to know how the data is used, so that I can develop more detailed usage and support scenarios with researchers.', 'Main Part': 'As a data manager, I want to know how the data is used', 'Benefit': 'I can develop more detailed usage and support scenarios with researchers', 'Triggers': {'Main Part': [['data manager', 'know']], 'Benefit': []}, 'Targets': {'Main Part': [['know', 'how']], 'Benefit': [['used', 'data'], ['develop', 'more detailed usage'], ['support', 'scenarios']]}, 'Contains': {'Main Part': [], 'Benefit': []}}, {'PID': '#G22#', 'USID': '1229', 'Text': 'As a repository owner, I want to be able to check the planned provenance of the data that will be submitted at the end of a project, so that I can calculate necessary submission fees and check whether it belongs to our target group.', 'Main Part': 'As a repository owner, I want to be able to check the planned provenance of the data that will be submitted at the end of a project', 'Benefit': 'I can calculate necessary submission fees and check whether it belongs to our target group', 'Triggers': {'Main Part': [['repository owner', 'check']], 'Benefit': []}, 'Targets': {'Main Part': [['check', 'planned provenance']], 'Benefit': [['calculate', 'necessary submission fees']]}, 'Contains': {'Main Part': [['data', 'planned provenance']], 'Benefit': [['project', 'data'], ['target group', 'data']]}}, {'PID': '#G22#', 'USID': '1230', 'Text': 'As an IT manager, I want to know about IT resource requirements early in the project lifecycle, so that I can enable resource acquisition planning.', 'Main Part': 'As an IT manager, I want to know about IT resource requirements early in the project lifecycle', 'Benefit': 'I can enable resource acquisition planning', 'Triggers': {'Main Part': [['IT manager', 'know']], 'Benefit': []}, 'Targets': {'Main Part': [['know', 'IT resource requirements']], 'Benefit': [['enable', 'resource acquisition planning']]}, 'Contains': {'Main Part': [['project lifecycle', 'IT resource requirements']], 'Benefit': []}}, {'PID': '#G22#', 'USID': '1231', 'Text': 'As a PI, I want to plan what kind of data I want to record/store, so that I can ensure it will possible to store it.', 'Main Part': 'As a PI, I want to plan what kind of data I want to record/store', 'Benefit': 'I can ensure it will possible to store it', 'Triggers': {'Main Part': [['PI', 'plan']], 'Benefit': []}, 'Targets': {'Main Part': [['plan', 'kind of data I want to record/store'], ['store', 'kind of data I want to record/store']], 'Benefit': []}, 'Contains': {'Main Part': [], 'Benefit': []}}, {'PID': '#G22#', 'USID': '1232', 'Text': 'As an IT staff member, I want to know the security requirements of the data, so that I know which kind of security measures to apply.', 'Main Part': 'As an IT staff member, I want to know the security requirements of the data', 'Benefit': 'I know which kind of security measures to apply', 'Triggers': {'Main Part': [['IT staff member', 'know']], 'Benefit': []}, 'Targets': {'Main Part': [['know', 'security requirements']], 'Benefit': [['know', ' kind of security measures'], ['apply', ' kind of security measures']]}, 'Contains': {'Main Part': [['data', 'security requirements']], 'Benefit': []}}, {'PID': '#G22#', 'USID': '1233', 'Text': 'As a data manager, I want to have the description of collected data sets that are used or updated throughout the project lifecycle, so that I can ensure the descriptions are current and add detail as the study proceeds.', 'Main Part': 'As a data manager, I want to have the description of collected data sets that are used or updated throughout the project lifecycle', 'Benefit': 'I can ensure the descriptions are current and add detail as the study proceeds', 'Triggers': {'Main Part': [['data manager', 'have']], 'Benefit': []}, 'Targets': {'Main Part': [['have', 'description']], 'Benefit': [['add', 'detail']]}, 'Contains': {'Main Part': [['collected data sets', 'description'], ['project lifecycle', 'description']], 'Benefit': [['descriptions', 'detail']]}}, {'PID': '#G22#', 'USID': '1234', 'Text': 'As a researcher, I want to know which topics are mandatory and similar in all DMPs, so that I can save time through quickly writing it.', 'Main Part': 'As a researcher, I want to know which topics are mandatory and similar in all DMPs', 'Benefit': 'I can save time through quickly writing it', 'Triggers': {'Main Part': [['researcher', 'know']], 'Benefit': []}, 'Targets': {'Main Part': [['know', 'topics']], 'Benefit': []}, 'Contains': {'Main Part': [['all DMPs', 'topics']], 'Benefit': []}}, {'PID': '#G22#', 'USID': '1235', 'Text': 'As a data manager, I want to know what the content of the data is, so that I can decide to which collection or repository the data fits.', 'Main Part': 'As a data manager, I want to know what the content of the data is', 'Benefit': 'I can decide to which collection or repository the data fits', 'Triggers': {'Main Part': [['data manager', 'know']], 'Benefit': []}, 'Targets': {'Main Part': [['know', 'content']], 'Benefit': [['decide', 'collection'], ['decide', 'repository']]}, 'Contains': {'Main Part': [['data', 'content']], 'Benefit': [['repository', 'data'], ['collection', 'data']]}}, {'PID': '#G22#', 'USID': '1236', 'Text': 'As a PI, I want to record information about my DMP, so that an Ethics Committee can review this for compliance with ethical standards.', 'Main Part': 'As a PI, I want to record information about my DMP', 'Benefit': 'an Ethics Committee can review this for compliance with ethical standards', 'Triggers': {'Main Part': [['PI', 'record']], 'Benefit': []}, 'Targets': {'Main Part': [['record', 'information']], 'Benefit': []}, 'Contains': {'Main Part': [['DMP', 'information']], 'Benefit': []}}, {'PID': '#G22#', 'USID': '1237', 'Text': 'As a legalofficer, I want to know about data sensitivity, so that I can establish sharing options.', 'Main Part': 'As a legalofficer, I want to know about data sensitivity', 'Benefit': 'I can establish sharing options', 'Triggers': {'Main Part': [['legalofficer', 'know']], 'Benefit': []}, 'Targets': {'Main Part': [['know', 'data sensitivity']], 'Benefit': [['establish', 'sharing options']]}, 'Contains': {'Main Part': [], 'Benefit': []}}, {'PID': '#G22#', 'USID': '1238', 'Text': 'As a data librarian, I want to extract pointers from the DMP to metadata held in other systems, so that I can import this metadata into a data catalogue.', 'Main Part': 'As a data librarian, I want to extract pointers from the DMP to metadata held in other systems', 'Benefit': 'I can import this metadata into a data catalogue', 'Triggers': {'Main Part': [['data librarian', 'extract']], 'Benefit': []}, 'Targets': {'Main Part': [['extract', 'pointers']], 'Benefit': [['import', 'metadata']]}, 'Contains': {'Main Part': [['DMP', 'pointers'], ['metadata', 'pointers']], 'Benefit': [['other systems', 'metadata'], ['data catalogue', 'metadata']]}}, {'PID': '#G22#', 'USID': '1239', 'Text': 'As an IT staff member, I want to have an estimate of the produced data volume, so that I can plan the overall storage consumption.', 'Main Part': 'As an IT staff member, I want to have an estimate of the produced data volume', 'Benefit': 'I can plan the overall storage consumption', 'Triggers': {'Main Part': [['IT staff member', 'have']], 'Benefit': []}, 'Targets': {'Main Part': [['have', 'estimate']], 'Benefit': [['plan', 'overall storage consumption']]}, 'Contains': {'Main Part': [['produced data volume', 'estimate']], 'Benefit': []}}, {'PID': '#G22#', 'USID': '1240', 'Text': 'As an administrator, I want to know who funded the project and their requirements, so that I can track the funder specific obligations.', 'Main Part': 'As an administrator, I want to know who funded the project and their requirements', 'Benefit': 'I can track the funder specific obligations', 'Triggers': {'Main Part': [['administrator', 'know']], 'Benefit': []}, 'Targets': {'Main Part': [['know', 'who']], 'Benefit': [['funded', 'project'], ['track', 'funder specific obligations']]}, 'Contains': {'Main Part': [['who', 'requirements']], 'Benefit': []}}, {'PID': '#G22#', 'USID': '1241', 'Text': 'As an archivemanager, I want to know the legal status of data, so that I can apply the legal requirements accordingly.', 'Main Part': 'As an archivemanager, I want to know the legal status of data', 'Benefit': 'I can apply the legal requirements accordingly', 'Triggers': {'Main Part': [['archivemanager', 'know']], 'Benefit': []}, 'Targets': {'Main Part': [['know', 'legal status']], 'Benefit': [['apply', 'legal requirements']]}, 'Contains': {'Main Part': [['data', 'legal status']], 'Benefit': []}}, {'PID': '#G22#', 'USID': '1242', 'Text': 'As a data manager, I want to know which kind of data types will be produced or collected, so that I can determine what basic support services and functionalities are required.', 'Main Part': 'As a data manager, I want to know which kind of data types will be produced or collected', 'Benefit': 'I can determine what basic support services and functionalities are required', 'Triggers': {'Main Part': [['data manager', 'know']], 'Benefit': []}, 'Targets': {'Main Part': [['know', 'kind of data types'], ['produced', 'kind of data types'], ['collected', 'kind of data types']], 'Benefit': [['determine', 'basic support services'], ['determine', 'functionalities']]}, 'Contains': {'Main Part': [], 'Benefit': []}}, {'PID': '#G22#', 'USID': '1243', 'Text': 'As an IT staff member, I want to know which kind of data types will be produced or collected, so that I can determine what basic support services and functionalities are required.', 'Main Part': 'As an IT staff member, I want to know which kind of data types will be produced or collected', 'Benefit': 'I can determine what basic support services and functionalities are required', 'Triggers': {'Main Part': [['IT staff member', 'know']], 'Benefit': []}, 'Targets': {'Main Part': [['know', 'kind of data types'], ['produced', 'kind of data types'], ['collected', 'kind of data types']], 'Benefit': [['determine', 'basic support services'], ['determine', 'functionalities']]}, 'Contains': {'Main Part': [], 'Benefit': []}}, {'PID': '#G22#', 'USID': '1244', 'Text': 'As an archivemanager, I want to know in advance the conservation period of data, so that I can better organize the service by adapting the preservation actions.', 'Main Part': 'As an archivemanager, I want to know in advance the conservation period of data', 'Benefit': 'I can better organize the service by adapting the preservation actions', 'Triggers': {'Main Part': [['archivemanager', 'know in advance']], 'Benefit': []}, 'Targets': {'Main Part': [['know in advance', 'conservation period']], 'Benefit': [['better organize', 'service'], ['adapting', 'preservation actions']]}, 'Contains': {'Main Part': [['data', 'conservation period']], 'Benefit': []}}, {'PID': '#G22#', 'USID': '1245', 'Text': 'As a data manager, I want to document all rights necessary for managing the data, so that I can curate and preserve the data.', 'Main Part': 'As a data manager, I want to document all rights necessary for managing the data', 'Benefit': 'I can curate and preserve the data', 'Triggers': {'Main Part': [['data manager', 'document']], 'Benefit': []}, 'Targets': {'Main Part': [['document', 'all rights']], 'Benefit': [['managing', 'data'], ['curate', 'data'], ['preserve', 'data']]}, 'Contains': {'Main Part': [['data', 'all rights']], 'Benefit': []}}, {'PID': '#G22#', 'USID': '1246', 'Text': 'As a data manager, I want to know what the content of the data is, so that I can check whether the necessary expertise for maintaining intellectual reusability is available.', 'Main Part': 'As a data manager, I want to know what the content of the data is', 'Benefit': 'I can check whether the necessary expertise for maintaining intellectual reusability is available', 'Triggers': {'Main Part': [['data manager', 'know']], 'Benefit': []}, 'Targets': {'Main Part': [['know', 'content']], 'Benefit': [['maintaining', 'intellectual reusability'], ['check', 'necessary expertise']]}, 'Contains': {'Main Part': [['data', 'content']], 'Benefit': []}}, {'PID': '#G22#', 'USID': '1247', 'Text': 'As a research head, I want to access to the persistent identifiers of datasets provided in the DMP, so that I can check that the DMP has been implemented.', 'Main Part': 'As a research head, I want to access to the persistent identifiers of datasets provided in the DMP', 'Benefit': 'I can check that the DMP has been implemented', 'Triggers': {'Main Part': [['research head', 'access']], 'Benefit': []}, 'Targets': {'Main Part': [['access', 'persistent identifiers']], 'Benefit': [['check', 'DMP'], ['implemented', 'DMP']]}, 'Contains': {'Main Part': [['datasets', 'persistent identifiers'], ['DMP', 'persistent identifiers']], 'Benefit': []}}, {'PID': '#G22#', 'USID': '1248', 'Text': 'As a funder, I want to be able to read the costs for data management from the DMP, so that I can check whether our policies work as intended.', 'Main Part': 'As a funder, I want to be able to read the costs for data management from the DMP', 'Benefit': 'I can check whether our policies work as intended', 'Triggers': {'Main Part': [['funder', 'read']], 'Benefit': []}, 'Targets': {'Main Part': [['read', 'costs']], 'Benefit': [['check', 'policies']]}, 'Contains': {'Main Part': [['data management', 'costs']], 'Benefit': [['DMP', 'data management']]}}, {'PID': '#G22#', 'USID': '1249', 'Text': 'As a researcher, I want the DMP to prepopulate information that I have already entered in other institutional systems, so that I do not have to re-enter information ensuring the DMP contains accurate and standardized information.', 'Main Part': 'As a researcher, I want the DMP to prepopulate information that I have already entered in other institutional systems', 'Benefit': 'I do not have to re-enter information ensuring the DMP contains accurate and standardized information', 'Triggers': {'Main Part': [['researcher', 'want']], 'Benefit': []}, 'Targets': {'Main Part': [['want', 'DMP']], 'Benefit': [['prepopulate', 'information']]}, 'Contains': {'Main Part': [], 'Benefit': [['institutional systems', 'information'], ['DMP', 'accurate and standardized information']]}}, {'PID': '#G22#', 'USID': '1250', 'Text': 'As a stakeholder, I want to know when the data management plan was created or updated, so that I know how up-to-date the plan is or whether it needs to be updated.', 'Main Part': 'As a stakeholder, I want to know when the data management plan was created or updated', 'Benefit': 'I know how up-to-date the plan is or whether it needs to be updated', 'Triggers': {'Main Part': [['stakeholder', 'know']], 'Benefit': []}, 'Targets': {'Main Part': [['know', 'when']], 'Benefit': [['created', 'data management plan'], ['updated', 'data management plan'], ['know', 'how up-to-date'], ['updated', 'data management plan']]}, 'Contains': {'Main Part': [], 'Benefit': []}}, {'PID': '#G22#', 'USID': '1251', 'Text': 'As a stakeholder, I want to know who is responsible for the DMP, so that I can ask them about further details.', 'Main Part': 'As a stakeholder, I want to know who is responsible for the DMP', 'Benefit': 'I can ask them about further details', 'Triggers': {'Main Part': [['stakeholder', 'know']], 'Benefit': []}, 'Targets': {'Main Part': [['know', 'who is responsible']], 'Benefit': [['ask', 'further details']]}, 'Contains': {'Main Part': [], 'Benefit': []}}, {'PID': '#G22#', 'USID': '1252', 'Text': 'As a stakeholder, I want to have references to the project proposal, so that I can look up further general information.', 'Main Part': 'As a stakeholder, I want to have references to the project proposal', 'Benefit': 'I can look up further general information', 'Triggers': {'Main Part': [['stakeholder', 'have']], 'Benefit': []}, 'Targets': {'Main Part': [['have', 'references']], 'Benefit': [['look up', 'further general information']]}, 'Contains': {'Main Part': [['project proposal', 'references']], 'Benefit': []}}, {'PID': '#G22#', 'USID': '1253', 'Text': 'As a metadata manager, I want to have a short description of project, so that I can be informed about the metadata description.', 'Main Part': 'As a metadata manager, I want to have a short description of project', 'Benefit': 'I can be informed about the metadata description', 'Triggers': {'Main Part': [['metadata manager', 'have']], 'Benefit': []}, 'Targets': {'Main Part': [['have', 'short description']], 'Benefit': []}, 'Contains': {'Main Part': [['project', 'short description']], 'Benefit': []}}, {'PID': '#G22#', 'USID': '1254', 'Text': 'As a rector, I want to know how many data will be stored, so that I can plan long term resources.', 'Main Part': 'As a rector, I want to know how many data will be stored', 'Benefit': 'I can plan long term resources', 'Triggers': {'Main Part': [['rector', 'know']], 'Benefit': []}, 'Targets': {'Main Part': [['know', 'how many']], 'Benefit': [['stored', 'data'], ['plan', 'long term resources']]}, 'Contains': {'Main Part': [], 'Benefit': []}}, {'PID': '#G22#', 'USID': '1255', 'Text': 'As a data manager, I want to know the time plan for collecting data, so that I can plan the data management.', 'Main Part': 'As a data manager, I want to know the time plan for collecting data', 'Benefit': 'I can plan the data management', 'Triggers': {'Main Part': [['data manager', 'know']], 'Benefit': []}, 'Targets': {'Main Part': [['know', 'time plan']], 'Benefit': [['collecting', 'data'], ['plan', 'data management']]}, 'Contains': {'Main Part': [['data', 'time plan']], 'Benefit': []}}, {'PID': '#G22#', 'USID': '1256', 'Text': 'As a data librarian, I want to import administrative information regarding a project into DMP, so that I can prepopulate the DMP.', 'Main Part': 'As a data librarian, I want to import administrative information regarding a project into DMP', 'Benefit': 'I can prepopulate the DMP', 'Triggers': {'Main Part': [['data librarian', 'import']], 'Benefit': []}, 'Targets': {'Main Part': [['import', 'administrative information']], 'Benefit': [['prepopulate', 'DMP']]}, 'Contains': {'Main Part': [['DMP', 'administrative information'], ['project', 'administrative information']], 'Benefit': []}}, {'PID': '#G22#', 'USID': '1257', 'Text': 'As a manager, I want to know about all resources and services used for the data, so that I can estimate the true cost of the project.', 'Main Part': 'As a manager, I want to know about all resources and services used for the data', 'Benefit': 'I can estimate the true cost of the project', 'Triggers': {'Main Part': [['manager', 'know']], 'Benefit': []}, 'Targets': {'Main Part': [['know', 'all resources'], ['know', 'services used']], 'Benefit': [['estimate', 'true cost']]}, 'Contains': {'Main Part': [], 'Benefit': [['project', 'true cost']]}}, {'PID': '#G22#', 'USID': '1258', 'Text': 'As an archivemanager, I want to reuse the information regarding file format, so that I can apply automated checks for the file validation.', 'Main Part': 'As an archivemanager, I want to reuse the information regarding file format', 'Benefit': 'I can apply automated checks for the file validation', 'Triggers': {'Main Part': [['archivemanager', 'reuse']], 'Benefit': []}, 'Targets': {'Main Part': [['reuse', 'information']], 'Benefit': [['apply', 'automated checks']]}, 'Contains': {'Main Part': [['file format', 'information']], 'Benefit': [['file validation', 'automated checks']]}}, {'PID': '#G22#', 'USID': '1259', 'Text': 'As a researcher, I want to know how many resources are needed during the project, so that I can calculate costs.', 'Main Part': 'As a researcher, I want to know how many resources are needed during the project', 'Benefit': 'I can calculate costs', 'Triggers': {'Main Part': [['researcher', 'know']], 'Benefit': []}, 'Targets': {'Main Part': [['know', 'how many']], 'Benefit': [['calculate', 'costs']]}, 'Contains': {'Main Part': [], 'Benefit': [['project', 'resources']]}}, {'PID': '#G22#', 'USID': '1260', 'Text': 'As a researcher, I want to extract the description of the data collected, so that I can reuse it for the writing of a data paper.', 'Main Part': 'As a researcher, I want to extract the description of the data collected', 'Benefit': 'I can reuse it for the writing of a data paper', 'Triggers': {'Main Part': [['researcher', 'extract']], 'Benefit': []}, 'Targets': {'Main Part': [['extract', 'description']], 'Benefit': [['writing', 'data paper']]}, 'Contains': {'Main Part': [['data collected', 'description']], 'Benefit': []}}, {'PID': '#G22#', 'USID': '1261', 'Text': 'As a researcher, I want to record research publications in the institutional repository or CRIS with DMP records, so that I can generate reports of research output resulting from a project.', 'Main Part': 'As a researcher, I want to record research publications in the institutional repository or CRIS with DMP records', 'Benefit': 'I can generate reports of research output resulting from a project', 'Triggers': {'Main Part': [['researcher', 'record']], 'Benefit': []}, 'Targets': {'Main Part': [['record', 'research publications']], 'Benefit': [['generate', 'reports']]}, 'Contains': {'Main Part': [['institutional repository', 'research publications'], ['CRIS', 'research publications']], 'Benefit': [['project', 'research output'], ['institutional repository', 'DMP records'], ['CRIS', 'DMP records'], ['reports', 'research output']]}}, {'PID': '#G22#', 'USID': '1262', 'Text': 'As a researcher, I want to link research publications in the institutional repository or CRIS with DMP records, so that I can generate reports of research output resulting from a project.', 'Main Part': 'As a researcher, I want to link research publications in the institutional repository or CRIS with DMP records', 'Benefit': 'I can generate reports of research output resulting from a project', 'Triggers': {'Main Part': [['researcher', 'link']], 'Benefit': []}, 'Targets': {'Main Part': [['link', 'research publications']], 'Benefit': [['generate', 'reports']]}, 'Contains': {'Main Part': [['institutional repository', 'research publications'], ['CRIS', 'research publications']], 'Benefit': [['institutional repository', 'DMP records'], ['CRIS', 'DMP records'], ['project', 'research output'], ['reports', 'research output']]}}, {'PID': '#G22#', 'USID': '1263', 'Text': 'As a researcher, I want to store agreements relating to third party data used in a project, so that the data can be cited, attributed and used correctly.', 'Main Part': 'As a researcher, I want to store agreements relating to third party data used in a project', 'Benefit': 'the data can be cited, attributed and used correctly', 'Triggers': {'Main Part': [['researcher', 'store']], 'Benefit': []}, 'Targets': {'Main Part': [['store', 'agreements']], 'Benefit': [['cited', 'data'], ['attributed', 'data'], ['used correctly', 'data']]}, 'Contains': {'Main Part': [], 'Benefit': [['project', 'third party data']]}}, {'PID': '#G22#', 'USID': '1264', 'Text': 'As an ethics manager, I want to be informed about the data, so that I can check for sensitivity of data.', 'Main Part': 'As an ethics manager, I want to be informed about the data', 'Benefit': 'I can check for sensitivity of data', 'Triggers': {'Main Part': [['ethics manager', 'be informed']], 'Benefit': []}, 'Targets': {'Main Part': [['be informed', 'data']], 'Benefit': [['check', 'sensitivity']]}, 'Contains': {'Main Part': [], 'Benefit': [['data', 'sensitivity']]}}, {'PID': '#G22#', 'USID': '1265', 'Text': 'As a repository operator, I want to know about the kind of data, so that I can evaluate the storage size and system.', 'Main Part': 'As a repository operator, I want to know about the kind of data', 'Benefit': 'I can evaluate the storage size and system', 'Triggers': {'Main Part': [['repository operator', 'know']], 'Benefit': []}, 'Targets': {'Main Part': [['know', 'kind of data']], 'Benefit': [['evaluate', 'storage size'], ['evaluate', 'system']]}, 'Contains': {'Main Part': [], 'Benefit': []}}, {'PID': '#G22#', 'USID': '1266', 'Text': 'As a researcher, I want to know about costs, so that I can plan my research.', 'Main Part': 'As a researcher, I want to know about costs', 'Benefit': 'I can plan my research', 'Triggers': {'Main Part': [['researcher', 'know']], 'Benefit': []}, 'Targets': {'Main Part': [['know', 'costs']], 'Benefit': [['plan', 'research']]}, 'Contains': {'Main Part': [], 'Benefit': []}}, {'PID': '#G22#', 'USID': '1267', 'Text': 'As a repository manager, I need details on the type of data, so that I can check if the archiving can be arranged.', 'Main Part': 'As a repository manager, I need details on the type of data', 'Benefit': 'I can check if the archiving can be arranged', 'Triggers': {'Main Part': [['repository manager', 'need']], 'Benefit': []}, 'Targets': {'Main Part': [['need', 'details']], 'Benefit': [['check', 'archiving'], ['arranged', 'archiving']]}, 'Contains': {'Main Part': [['type of data', 'details']], 'Benefit': []}}, {'PID': '#G22#', 'USID': '1268', 'Text': 'As an IT officer, I want to know how secure data is, so that I can ensure legal compliance.', 'Main Part': 'As an IT officer, I want to know how secure data is', 'Benefit': 'I can ensure legal compliance', 'Triggers': {'Main Part': [['IT officer', 'know']], 'Benefit': []}, 'Targets': {'Main Part': [['know', 'how secure']], 'Benefit': [['ensure', 'legal compliance']]}, 'Contains': {'Main Part': [], 'Benefit': []}}, {'PID': '#G22#', 'USID': '1269', 'Text': 'As a funder, I want to know how secure data is, so that I can ensure legal compliance.', 'Main Part': 'As a funder, I want to know how secure data is', 'Benefit': 'I can ensure legal compliance', 'Triggers': {'Main Part': [['funder', 'know']], 'Benefit': []}, 'Targets': {'Main Part': [['know', 'how secure']], 'Benefit': [['ensure', 'legal compliance']]}, 'Contains': {'Main Part': [], 'Benefit': []}}, {'PID': '#G22#', 'USID': '1270', 'Text': 'As a Research Centre Director, I want to receive regular summary reports of research data, so that I understand trends in data use among staff and postgraduate students.', 'Main Part': 'As a Research Centre Director, I want to receive regular summary reports of research data', 'Benefit': 'I understand trends in data use among staff and postgraduate students', 'Triggers': {'Main Part': [['Research Centre Director', 'receive']], 'Benefit': []}, 'Targets': {'Main Part': [['receive', 'regular summary reports']], 'Benefit': [['understand', 'trends']]}, 'Contains': {'Main Part': [['regular summary reports', 'research data']], 'Benefit': [['data use', 'trends']]}}, {'PID': '#G22#', 'USID': '1271', 'Text': 'As a Postgraduate Convenor, I want to receive regular summary reports of research data, so that I understand trends in data use among staff and postgraduate students.', 'Main Part': 'As a Postgraduate Convenor, I want to receive regular summary reports of research data', 'Benefit': 'I understand trends in data use among staff and postgraduate students', 'Triggers': {'Main Part': [['Postgraduate Convenor', 'receive']], 'Benefit': []}, 'Targets': {'Main Part': [['receive', 'regular summary reports']], 'Benefit': [['understand', 'trends']]}, 'Contains': {'Main Part': [['research data', 'regular summary reports']], 'Benefit': [['data use', 'trends']]}}, {'PID': '#G22#', 'USID': '1272', 'Text': 'As a research support officer, I want to ensure compliance to the funders’ rules, so that I can ensure all costs will be accepted.', 'Main Part': 'As a research support officer, I want to ensure compliance to the funders’ rules', 'Benefit': 'I can ensure all costs will be accepted', 'Triggers': {'Main Part': [['research support officer', 'ensure']], 'Benefit': []}, 'Targets': {'Main Part': [['ensure', 'compliance ']], 'Benefit': [['accepted', 'all costs']]}, 'Contains': {'Main Part': [], 'Benefit': []}}, {'PID': '#G22#', 'USID': '1273', 'Text': 'As a funder, I want to be able to check all the repositories mentioned in a DMP, so that I can verify whether the project has followed our funding rules.', 'Main Part': 'As a funder, I want to be able to check all the repositories mentioned in a DMP', 'Benefit': 'I can verify whether the project has followed our funding rules', 'Triggers': {'Main Part': [['funder', 'check']], 'Benefit': []}, 'Targets': {'Main Part': [['check', 'repositories mentioned']], 'Benefit': [['followed', 'funding rules'], ['verify', 'project']]}, 'Contains': {'Main Part': [['DMP', 'repositories mentioned']], 'Benefit': [['project', 'funding rules']]}}, {'PID': '#G22#', 'USID': '1274', 'Text': 'As a PI, I want to plan what kind of data I want to store, so that I can ensure it will be possible to store it.', 'Main Part': 'As a PI, I want to plan what kind of data I want to store', 'Benefit': 'I can ensure it will be possible to store it', 'Triggers': {'Main Part': [['PI', 'plan']], 'Benefit': []}, 'Targets': {'Main Part': [['plan', 'kind of data I want to store'], ['store', 'kind of data I want to store']], 'Benefit': []}, 'Contains': {'Main Part': [], 'Benefit': []}}, {'PID': '#G22#', 'USID': '1275', 'Text': 'As a PI, I want to know how secure data is, so that I can ensure legal compliance.', 'Main Part': 'As a PI, I want to know how secure data is', 'Benefit': 'I can ensure legal compliance', 'Triggers': {'Main Part': [['PI', 'know']], 'Benefit': []}, 'Targets': {'Main Part': [['know', 'how secure']], 'Benefit': [['ensure', 'legal compliance']]}, 'Contains': {'Main Part': [], 'Benefit': []}}, {'PID': '#G22#', 'USID': '1276', 'Text': 'As a Director of Research Integrity, I want to access reports containing details of research projects in which data are classified as sensitive or highly sensitive, so that I can confirm security protocols are applied to these data.', 'Main Part': 'As a Director of Research Integrity, I want to access reports containing details of research projects in which data are classified as sensitive or highly sensitive', 'Benefit': 'I can confirm security protocols are applied to these data', 'Triggers': {'Main Part': [['Director of Research Integrity', 'access']], 'Benefit': []}, 'Targets': {'Main Part': [['access', 'reports']], 'Benefit': [['confirm', 'security protocols'], ['applied', 'security protocols'], ['classified', 'data']]}, 'Contains': {'Main Part': [['reports', 'details']], 'Benefit': [['data', 'security protocols'], ['research projects', 'details']]}}, {'PID': '#G22#', 'USID': '1277', 'Text': 'As an archive, I want to get information about the volume of data to preserve at an early stage, so that I can provide the adequate storage infrastructure.', 'Main Part': 'As an archive, I want to get information about the volume of data to preserve at an early stage', 'Benefit': 'I can provide the adequate storage infrastructure', 'Triggers': {'Main Part': [['archive', 'get']], 'Benefit': []}, 'Targets': {'Main Part': [['get', 'information']], 'Benefit': [['provide', 'adequate storage infrastructure']]}, 'Contains': {'Main Part': [['volume', 'information']], 'Benefit': [['data to preserve', 'volume']]}}, {'PID': '#G22#', 'USID': '1278', 'Text': 'As a researcher, I want to know how long it will take to archive, so that I can plan further steps.', 'Main Part': 'As a researcher, I want to know how long it will take to archive', 'Benefit': 'I can plan further steps', 'Triggers': {'Main Part': [['researcher', 'know']], 'Benefit': []}, 'Targets': {'Main Part': [['know', 'how long']], 'Benefit': [['plan', 'further steps']]}, 'Contains': {'Main Part': [], 'Benefit': []}}, {'PID': '#G22#', 'USID': '1279', 'Text': 'As a PI, I want to know who owns the data, so that I know what I am allowed to do with it.', 'Main Part': 'As a PI, I want to know who owns the data', 'Benefit': 'I know what I am allowed to do with it', 'Triggers': {'Main Part': [['PI', 'know']], 'Benefit': []}, 'Targets': {'Main Part': [['know', 'who']], 'Benefit': [['know', 'what']]}, 'Contains': {'Main Part': [['who', 'data']], 'Benefit': []}}, {'PID': '#G22#', 'USID': '1280', 'Text': 'As a data manager, I want to have references to documentation of the data and its creation process, so that the data can be re-used and managed.', 'Main Part': 'As a data manager, I want to have references to documentation of the data and its creation process', 'Benefit': 'the data can be re-used and managed', 'Triggers': {'Main Part': [['data manager', 'have']], 'Benefit': []}, 'Targets': {'Main Part': [['have', 'references'], ['have', 'creation process']], 'Benefit': [['re-used', 'data'], ['managed', 'data']]}, 'Contains': {'Main Part': [['documentation', 'references'], ['documentation', 'creation process']], 'Benefit': [['data', 'documentation']]}}, {'PID': '#G22#', 'USID': '1281', 'Text': 'As an archivemanager, I want to make sure that detailed metadata are associated to data so that it will be understandable by future users.', 'Main Part': 'As an archivemanager, I want to make sure that detailed metadata are associated to data', 'Benefit': 'it will be understandable by future users', 'Triggers': {'Main Part': [['archivemanager', 'make sure']], 'Benefit': []}, 'Targets': {'Main Part': [], 'Benefit': [['associated', 'detailed metadata']]}, 'Contains': {'Main Part': [], 'Benefit': [['data', 'detailed metadata']]}}, {'PID': '#G22#', 'USID': '1282', 'Text': 'As a data manager, I want to know which kind of data types will be produced or collected, so that I can ensure that the necessary technical resources and technical know-how is available.', 'Main Part': 'As a data manager, I want to know which kind of data types will be produced or collected', 'Benefit': 'I can ensure that the necessary technical resources and technical know-how is available', 'Triggers': {'Main Part': [['data manager', 'know']], 'Benefit': []}, 'Targets': {'Main Part': [['know', 'kind of data types'], ['produced', 'kind of data types'], ['collected', 'kind of data types']], 'Benefit': []}, 'Contains': {'Main Part': [], 'Benefit': []}}, {'PID': '#G22#', 'USID': '1283', 'Text': 'As an IT staff member, I want to know which kind of data types will be produced or collected, so that I can ensure that the necessary technical resources and technical know-how is available.', 'Main Part': 'As an IT staff member, I want to know which kind of data types will be produced or collected', 'Benefit': 'I can ensure that the necessary technical resources and technical know-how is available', 'Triggers': {'Main Part': [['IT staff member', 'know']], 'Benefit': []}, 'Targets': {'Main Part': [['know', 'kind of data types'], ['produced', 'kind of data types'], ['collected', 'kind of data types']], 'Benefit': []}, 'Contains': {'Main Part': [], 'Benefit': []}}, {'PID': '#G22#', 'USID': '1284', 'Text': 'As an IT staff member, I want to know how the data is used, so that I can determine what kind of basic services and functionalities are required.', 'Main Part': 'As an IT staff member, I want to know how the data is used', 'Benefit': 'I can determine what kind of basic services and functionalities are required', 'Triggers': {'Main Part': [['IT staff member', 'know']], 'Benefit': []}, 'Targets': {'Main Part': [['know', 'how']], 'Benefit': [['used', 'data'], ['determine', 'kind of basic services'], ['determine', 'functionalities']]}, 'Contains': {'Main Part': [], 'Benefit': []}}, {'PID': '#G22#', 'USID': '1285', 'Text': 'As a data manager, I want to know whether the collected data depends on other data sets from my own or other institutions, so that I can ensure that these dependencies are maintained.', 'Main Part': 'As a data manager, I want to know whether the collected data depends on other data sets from my own or other institutions', 'Benefit': 'I can ensure that these dependencies are maintained', 'Triggers': {'Main Part': [['data manager', 'know']], 'Benefit': []}, 'Targets': {'Main Part': [], 'Benefit': [['maintained', 'dependencies']]}, 'Contains': {'Main Part': [], 'Benefit': [['own or other institutions', 'other data sets']]}}, {'PID': '#G22#', 'USID': '1286', 'Text': 'As an IT staff member, I want to know which formats are used, so that I can determine what kind of technical services and functionalities are required.', 'Main Part': 'As an IT staff member, I want to know which formats are used', 'Benefit': 'I can determine what kind of technical services and functionalities are required', 'Triggers': {'Main Part': [['IT staff member', 'know']], 'Benefit': []}, 'Targets': {'Main Part': [['know', 'formats'], ['used', 'formats']], 'Benefit': [['determine', 'kind of technical services'], ['determine', 'functionalities']]}, 'Contains': {'Main Part': [], 'Benefit': []}}, {'PID': '#G22#', 'USID': '1287', 'Text': 'As an IT staff member, I want to know with which software or technology the data is produced or used, so that I can determine what kind of technical services and functionalities are required.', 'Main Part': 'As an IT staff member, I want to know with which software or technology the data is produced or used', 'Benefit': 'I can determine what kind of technical services and functionalities are required', 'Triggers': {'Main Part': [['IT staff member', 'know']], 'Benefit': []}, 'Targets': {'Main Part': [['know', 'software'], ['know', 'technology']], 'Benefit': [['produced', 'data'], ['used', 'data'], ['determine', 'kind of technical services'], ['determine', 'functionalities']]}, 'Contains': {'Main Part': [['software', 'data'], ['technology', 'data']], 'Benefit': []}}, {'PID': '#G22#', 'USID': '1288', 'Text': 'As a data manager, I want to know which information is necessary to re-use the data, so that it can be checked whether all necessary information is available for researchers interested in re-using the data.', 'Main Part': 'As a data manager, I want to know which information is necessary to re-use the data', 'Benefit': 'it can be checked whether all necessary information is available for researchers interested in re-using the data', 'Triggers': {'Main Part': [['data manager', 'know']], 'Benefit': []}, 'Targets': {'Main Part': [['know', 'information']], 'Benefit': [['re-use', 'data'], ['re-using', 'data'], ['checked', 'information']]}, 'Contains': {'Main Part': [], 'Benefit': [['researchers', 'all necessary information']]}}, {'PID': '#G22#', 'USID': '1289', 'Text': 'As a data manager, I want to know which formats are used, so that I know what technology or background information might be necessary to use the data.', 'Main Part': 'As a data manager, I want to know which formats are used', 'Benefit': 'I know what technology or background information might be necessary to use the data', 'Triggers': {'Main Part': [['data manager', 'know']], 'Benefit': []}, 'Targets': {'Main Part': [['know', 'formats'], ['used', 'formats']], 'Benefit': [['know', 'technology'], ['know', 'background information'], ['use', 'data']]}, 'Contains': {'Main Part': [], 'Benefit': []}}, {'PID': '#G22#', 'USID': '1290', 'Text': 'As a data manager, I want to know whether the data can be reproduced efficiently, so that I can determine whether and how the data has to be stored.', 'Main Part': 'As a data manager, I want to know whether the data can be reproduced efficiently', 'Benefit': 'I can determine whether and how the data has to be stored', 'Triggers': {'Main Part': [['data manager', 'know']], 'Benefit': []}, 'Targets': {'Main Part': [], 'Benefit': [['reproduced efficiently', 'data'], ['determine', 'how'], ['stored', 'data']]}, 'Contains': {'Main Part': [], 'Benefit': []}}, {'PID': '#G22#', 'USID': '1291', 'Text': 'As a data manager, I want to know with which software or technology the data is produced or used, so that I know what technology or background information might be necessary to (re-)use the data.', 'Main Part': 'As a data manager, I want to know with which software or technology the data is produced or used', 'Benefit': 'I know what technology or background information might be necessary to (re-)use the data', 'Triggers': {'Main Part': [['data manager', 'know']], 'Benefit': []}, 'Targets': {'Main Part': [['know', 'software'], ['know', 'technology'], ['know', 'technology']], 'Benefit': [['produced', 'data'], ['used', 'data'], ['know', 'background information'], ['(re-)use', 'data']]}, 'Contains': {'Main Part': [['software', 'data']], 'Benefit': [['technology', 'data']]}}, {'PID': '#G22#', 'USID': '1292', 'Text': 'As a research evaluation manager, I want to ensure all data are quoted correctly with our affiliation, so that they are counted towards our citation counts.', 'Main Part': 'As a research evaluation manager, I want to ensure all data are quoted correctly with our affiliation', 'Benefit': 'they are counted towards our citation counts', 'Triggers': {'Main Part': [['research evaluation manager', 'ensure']], 'Benefit': []}, 'Targets': {'Main Part': [], 'Benefit': [['quoted correctly', 'all data']]}, 'Contains': {'Main Part': [], 'Benefit': [['all data', 'affiliation']]}}, {'PID': '#G22#', 'USID': '1293', 'Text': 'As an administrator, I want to check that all data has the appropriate security level, so that I can demonstrate compliance.', 'Main Part': 'As an administrator, I want to check that all data has the appropriate security level', 'Benefit': 'I can demonstrate compliance', 'Triggers': {'Main Part': [['administrator', 'check']], 'Benefit': []}, 'Targets': {'Main Part': [['check', 'all data']], 'Benefit': [['demonstrate', 'compliance']]}, 'Contains': {'Main Part': [['all data', 'appropriate security level']], 'Benefit': []}}, {'PID': '#G22#', 'USID': '1294', 'Text': 'As a data manager, I want to know the security requirements of the data, so that I can check whether the data can be kept secure.', 'Main Part': 'As a data manager, I want to know the security requirements of the data', 'Benefit': 'I can check whether the data can be kept secure', 'Triggers': {'Main Part': [['data manager', 'know']], 'Benefit': []}, 'Targets': {'Main Part': [['know', 'security requirements']], 'Benefit': [['kept secure', 'data']]}, 'Contains': {'Main Part': [['data', 'security requirements']], 'Benefit': []}}, {'PID': '#G22#', 'USID': '1295', 'Text': 'As a institutional data steward, I want to be able to extract the data sets that are submitted to external repositories, so that I can add them to an institutional data catalogue.', 'Main Part': 'As a institutional data steward, I want to be able to extract the data sets that are submitted to external repositories', 'Benefit': 'I can add them to an institutional data catalogue', 'Triggers': {'Main Part': [['institutional data steward', 'extract']], 'Benefit': []}, 'Targets': {'Main Part': [['extract', 'data sets']], 'Benefit': []}, 'Contains': {'Main Part': [['external repositories', 'data sets']], 'Benefit': []}}, {'PID': '#G22#', 'USID': '1296', 'Text': 'As an institutional data manager, I want to know about the privacy and security requirements of the data, so that I can plan the right storage system and sharing permissions.', 'Main Part': 'As an institutional data manager, I want to know about the privacy and security requirements of the data', 'Benefit': 'I can plan the right storage system and sharing permissions', 'Triggers': {'Main Part': [['institutional data manager', 'know']], 'Benefit': []}, 'Targets': {'Main Part': [['know', 'privacy'], ['know', 'security requirements']], 'Benefit': [['plan', 'right storage system'], ['plan', 'sharing permissions']]}, 'Contains': {'Main Part': [['data', 'privacy'], ['data', 'security requirements']], 'Benefit': []}}, {'PID': '#G22#', 'USID': '1297', 'Text': 'As a researcher, I want to see the sections on costing by other researchers in my department, so that I can see if we could share data manager posts.', 'Main Part': 'As a researcher, I want to see the sections on costing by other researchers in my department', 'Benefit': 'I can see if we could share data manager posts', 'Triggers': {'Main Part': [['researcher', 'see']], 'Benefit': []}, 'Targets': {'Main Part': [['see', 'sections']], 'Benefit': [['share', 'data manager posts']]}, 'Contains': {'Main Part': [['sections', 'costing']], 'Benefit': [['department', 'other researchers'], ['other researchers', 'costing']]}}, {'PID': '#G22#', 'USID': '1298', 'Text': 'As a researcher, I want to see the sections on roles submitted by other researchers in my department, so that I can see if we could share data manager posts.', 'Main Part': 'As a researcher, I want to see the sections on roles submitted by other researchers in my department', 'Benefit': 'I can see if we could share data manager posts', 'Triggers': {'Main Part': [['researcher', 'see']], 'Benefit': []}, 'Targets': {'Main Part': [['see', 'sections']], 'Benefit': [['share', 'data manager posts'], ['submitted', 'roles']]}, 'Contains': {'Main Part': [['sections', 'roles']], 'Benefit': [['department', 'other researchers'], ['other researchers', 'roles']]}}, {'PID': '#G22#', 'USID': '1299', 'Text': 'As a researcher, I want to see the sections on responsibilities submitted by other researchers in my department, so that I can see if we could share data manager posts.', 'Main Part': 'As a researcher, I want to see the sections on responsibilities submitted by other researchers in my department', 'Benefit': 'I can see if we could share data manager posts', 'Triggers': {'Main Part': [['researcher', 'see']], 'Benefit': []}, 'Targets': {'Main Part': [['see', 'sections']], 'Benefit': [['share', 'data manager posts'], ['submitted', 'responsibilities']]}, 'Contains': {'Main Part': [['sections', 'responsibilities']], 'Benefit': [['department', 'other researchers'], ['other researchers', 'responsibilities']]}}, {'PID': '#G22#', 'USID': '1300', 'Text': 'As a faculty data steward, I want to see the sections on costing, so that I can ensure sufficient expertise on data management to support the project.', 'Main Part': 'As a faculty data steward, I want to see the sections on costing', 'Benefit': 'I can ensure sufficient expertise on data management to support the project', 'Triggers': {'Main Part': [['faculty data steward', 'see']], 'Benefit': []}, 'Targets': {'Main Part': [['see', 'sections']], 'Benefit': [['ensure', 'sufficient expertise'], ['support', 'project']]}, 'Contains': {'Main Part': [['sections', 'costing']], 'Benefit': [['data management', 'sufficient expertise'], ['project', 'data management']]}}, {'PID': '#G22#', 'USID': '1301', 'Text': 'As a faculty data steward, I want to see the sections on roles, so that I can ensure sufficient expertise on data management to support the project.', 'Main Part': 'As a faculty data steward, I want to see the sections on roles', 'Benefit': 'I can ensure sufficient expertise on data management to support the project', 'Triggers': {'Main Part': [['faculty data steward', 'see']], 'Benefit': []}, 'Targets': {'Main Part': [['see', 'sections']], 'Benefit': [['ensure', 'sufficient expertise'], ['support', 'project']]}, 'Contains': {'Main Part': [['sections', 'roles']], 'Benefit': [['data management', 'sufficient expertise'], ['project', 'data management']]}}, {'PID': '#G22#', 'USID': '1302', 'Text': 'As a faculty data steward, I want to see the sections on responsibilities, so that I can ensure sufficient expertise on data management to support the project.', 'Main Part': 'As a faculty data steward, I want to see the sections on responsibilities', 'Benefit': 'I can ensure sufficient expertise on data management to support the project', 'Triggers': {'Main Part': [['faculty data steward,', 'see']], 'Benefit': []}, 'Targets': {'Main Part': [['see', 'sections']], 'Benefit': [['support', 'project'], ['ensure', 'sufficient expertise']]}, 'Contains': {'Main Part': [['sections', 'responsibilities']], 'Benefit': [['data management', 'sufficient expertise'], ['project', 'data management']]}}, {'PID': '#G22#', 'USID': '1303', 'Text': 'As a data manager, I want to clarify the necessary rights for re-using the data, so that it is legal to reuse the data.', 'Main Part': 'As a data manager, I want to clarify the necessary rights for re-using the data', 'Benefit': 'it is legal to reuse the data', 'Triggers': {'Main Part': [['data manager', 'clarify']], 'Benefit': []}, 'Targets': {'Main Part': [['clarify', 'necessary rights']], 'Benefit': [['re-using', 'data'], ['reuse', 'data']]}, 'Contains': {'Main Part': [['data', 'necessary rights']], 'Benefit': []}}, {'PID': '#G22#', 'USID': '1304', 'Text': 'As a researcher, I want to record my intention to share data I have collected under terms of a particular licence, so that other researchers who use the data understand the rights of use.', 'Main Part': 'As a researcher, I want to record my intention to share data I have collected under terms of a particular licence', 'Benefit': 'other researchers who use the data understand the rights of use', 'Triggers': {'Main Part': [['researcher', 'record']], 'Benefit': []}, 'Targets': {'Main Part': [['record', 'intention']], 'Benefit': [['share', 'data I have collected'], ['use', 'data'], ['understand', 'rights of use']]}, 'Contains': {'Main Part': [], 'Benefit': [['particular licence', 'terms'], ['data', 'rights of use']]}}, {'PID': '#G22#', 'USID': '1305', 'Text': 'As a data manager, I want to plan the anonymization of data, so that we protect the privacy of the people participating in the research as good as possible and still ensure reusability of data.', 'Main Part': 'As a data manager, I want to plan the anonymization of data', 'Benefit': 'we protect the privacy of the people participating in the research as good as possible and still ensure reusability of data', 'Triggers': {'Main Part': [['data manager', 'plan']], 'Benefit': []}, 'Targets': {'Main Part': [['plan', 'anonymization of data']], 'Benefit': [['participating', 'research'], ['still ensure', 'reusability of data'], ['protect', 'privacy']]}, 'Contains': {'Main Part': [], 'Benefit': [['people', 'privacy']]}}, {'PID': '#G22#', 'USID': '1306', 'Text': 'As a repository manager, I want to have metadata in additional languages, so that I can allow for multilingual data archive.', 'Main Part': 'As a repository manager, I want to have metadata in additional languages', 'Benefit': 'I can allow for multilingual data archive', 'Triggers': {'Main Part': [['repository manager', 'have']], 'Benefit': []}, 'Targets': {'Main Part': [['have', 'metadata']], 'Benefit': [['allow', 'multilingual data archive']]}, 'Contains': {'Main Part': [['metadata', 'additional languages']], 'Benefit': []}}, {'PID': '#G22#', 'USID': '1307', 'Text': 'As a data manager, I want to know whether the DMP was approved, so that I can proceed with the required next steps.', 'Main Part': 'As a data manager, I want to know whether the DMP was approved', 'Benefit': 'I can proceed with the required next steps', 'Triggers': {'Main Part': [['data manager', 'know']], 'Benefit': []}, 'Targets': {'Main Part': [], 'Benefit': [['approved', 'DMP'], ['proceed', 'required next steps']]}, 'Contains': {'Main Part': [], 'Benefit': []}}]\n"
     ]
    }
   ],
   "source": [
    "not_processed_datasets_text: dict[str, list] = loading()\n",
    "datasets_text, ignored_items = convert_annotation_dataset(not_processed_datasets_text)\n",
    "\n",
    "g19_text = datasets_text[\"g19\"]\n",
    "g22_text = datasets_text[\"g22\"]\n",
    "print(g22_text)"
   ]
  },
  {
   "cell_type": "markdown",
   "metadata": {},
   "source": [
    "### Getting overlaps between graph transformation approach and llm (just text)"
   ]
  },
  {
   "cell_type": "code",
   "execution_count": null,
   "metadata": {},
   "outputs": [],
   "source": [
    "strict_llm_results_text: OrderedSet = OrderedSet() # value is the pair numbers with redundancy type\n",
    "\n",
    "if True:\n",
    "    tp_main_part:int = 0\n",
    "    fp_main_part:int = 0\n",
    "    fn_main_part:int = 0\n",
    "    tn_main_part:int = 0\n",
    "    \n",
    "    tp_benefit:int = 0\n",
    "    fp_benefit:int = 0\n",
    "    fn_benefit:int = 0\n",
    "    tn_benefit:int = 0\n",
    "    \n",
    "    filtered_rows: pd.DataFrame = None\n",
    "    entries_in_filtered_row: int = 0\n",
    "    usid1: int = 0\n",
    "    usid2: int = 0\n",
    "    usid_redundancy_key: str = \"\"\n",
    "    temp:str = None\n",
    "    convertable_gt_system_output: dict = {}\n",
    "    for dataset in gpt_results_text.values():\n",
    "        for dataset_key, array in dataset.items():\n",
    "            for llm_detection_values in array:\n",
    "                usid1, usid2 = llm_detection_values[\"relatedStories\"]\n",
    "                filtered_rows = excel_data_graph_approach[\n",
    "                        (excel_data_graph_approach['USID 1'].astype(int) == int(usid1)) \n",
    "                        & (excel_data_graph_approach['USID 2'].astype(int) == int(usid2))\n",
    "                    ]\n",
    "                if filtered_rows.empty:\n",
    "                    filtered_rows = excel_data_graph_approach[\n",
    "                        (excel_data_graph_approach['USID 2'].astype(int) == int(usid1)) \n",
    "                        & (excel_data_graph_approach['USID 1'].astype(int) == int(usid2))\n",
    "                    ]\n",
    "                \n",
    "                entries_in_filtered_row = len(filtered_rows)\n",
    "                if entries_in_filtered_row > 1:\n",
    "                    raise ValueError(f\"For {item[0]}, multiple entries in the excel file were found.\")\n",
    "                \n",
    "                temp = \"\"\n",
    "                if (not bool(filtered_rows.iloc[0][\"Main Part Partial\"]) \n",
    "\t\t            and not bool(filtered_rows.iloc[0][\"Main Part Full\"])):\n",
    "                    if bool(llm_detection_values[\"mainPartRedundancies\"][\"mainPartRedundancy\"]):\n",
    "                        fp_main_part += 1\n",
    "                        temp += \"main part,fp\"\n",
    "                    else:\n",
    "                        tn_main_part += 1\n",
    "                        temp += \"main part,tn\"\n",
    "                else: \n",
    "                    if bool(llm_detection_values[\"mainPartRedundancies\"][\"mainPartRedundancy\"]):\n",
    "                        tp_main_part += 1\n",
    "                        temp += \"main part,tp\"\n",
    "                    else:\n",
    "                        fn_main_part += 1\n",
    "                        temp += \"main part,fn\"\n",
    "                \n",
    "                if len(temp) > 0:\n",
    "                    temp += \",\"\n",
    "                \n",
    "                \n",
    "                if (not bool(filtered_rows.iloc[0][\"Benefit Partial\"]) \n",
    "                    and not bool(filtered_rows.iloc[0][\"Benefit Full\"])):\n",
    "                    if bool(llm_detection_values[\"benefitRedundancies\"][\"benefitRedundancy\"]):\n",
    "                        fp_benefit += 1\n",
    "                        temp += \"benefit,fp\"\n",
    "                    else:\n",
    "                        tn_benefit += 1\n",
    "                        temp += \"benefit,tn\"\n",
    "                else: \n",
    "                    if bool(llm_detection_values[\"benefitRedundancies\"][\"benefitRedundancy\"]):\n",
    "                        tp_benefit += 1\n",
    "                        temp += \"benefit,tp\"\n",
    "                    else:\n",
    "                        fn_benefit += 1\n",
    "                        temp += \"benefit,fn\"\n",
    "                        \n",
    "                if len(temp) > 0:\n",
    "                    temp = f\"{usid1},{usid2},{temp}\"\n",
    "                    strict_llm_results_text.add(temp)                                \n",
    "                \n",
    "                filtered_rows = None\n",
    "                entries_in_filtered_row = None\n",
    "                usid1 = None\n",
    "                usid2 = None\n",
    "                usid_redundancy_key = None\n",
    "            temp_list = None\n",
    "            "
   ]
  },
  {
   "cell_type": "code",
   "execution_count": null,
   "metadata": {},
   "outputs": [
    {
     "data": {
      "text/plain": [
       "468"
      ]
     },
     "execution_count": 15,
     "metadata": {},
     "output_type": "execute_result"
    }
   ],
   "source": [
    "# print here the data"
   ]
  },
  {
   "cell_type": "markdown",
   "metadata": {},
   "source": [
    "## Graph-Transformation-Results and GPT-Annotation Results"
   ]
  },
  {
   "cell_type": "code",
   "execution_count": null,
   "metadata": {},
   "outputs": [],
   "source": [
    "directories_to_ignore_annotations:list[str] = [\"text-annoations-redundancy-model-gpt-4o-mini-2024-07-18\", \"annoations-redundancy-model-gpt-4o\", \n",
    "                              \"annoations-redundancy-model-gpt-4o-mini-2024-07-18\", \"annoations-redundancy-model-gpt-3.5-turbo-0125\", \n",
    "                              \"text-annoations-redundancy-model-gpt-4o-mini-2024-07-18\", \"annoations-redundancy-model-gpt-4o\", \n",
    "                              \"text-redundancy-model-gpt-4o-mini-2024-07-18\", \"annoations-redundancy-model-gpt-3.5-turbo-0125\"]\n",
    "gpt_results_annotations: dict[dict[str, list[dict]]] = load_chat_gpt_results(directories_to_ignore_annotations)\n",
    "gpt_result_keys_annotations: list[str] = list(gpt_results_annotations.keys())\n",
    "gpt_result_json_keys_annotations = {\n",
    "    outer_key: list(inner_dict.keys())\n",
    "    for outer_key, inner_dict in gpt_results_annotations.items()\n",
    "}"
   ]
  },
  {
   "cell_type": "markdown",
   "metadata": {},
   "source": [
    "### Basic analyses"
   ]
  },
  {
   "cell_type": "code",
   "execution_count": 19,
   "metadata": {},
   "outputs": [],
   "source": [
    "redundant_main_part_annotations: int = 0\n",
    "redundant_benefit_annotations: int = 0\n",
    "no_redundancies_main_part_annotations: int = 0\n",
    "no_redundancies_benefit_annotations: int = 0"
   ]
  },
  {
   "cell_type": "code",
   "execution_count": null,
   "metadata": {},
   "outputs": [
    {
     "name": "stdout",
     "output_type": "stream",
     "text": [
      "annoations-redundancy-model-gpt-4o-mini-2024-07-18, 00_g19.json, Redundancies in Main Part: 1585, No Reduncancies in Main Part: 7699, Redundancies in Benefit: 292, No Redundancies in Benefit: 8992\n",
      "annoations-redundancy-model-gpt-4o-mini-2024-07-18, 00_g22.json, Redundancies in Main Part: 328, No Reduncancies in Main Part: 3056, Redundancies in Benefit: 192, No Redundancies in Benefit: 3192\n"
     ]
    }
   ],
   "source": [
    "for usid_redundancy_key, item in gpt_results_annotations.items():\n",
    "    model = usid_redundancy_key\n",
    "    for sub_key, sub_item in item.items():\n",
    "        data_set = sub_key\n",
    "        for _ in sub_item:\n",
    "            if (bool(_[\"mainPartRedundancies\"][\"fullRedundancy\"]) \n",
    "                    or bool(_[\"mainPartRedundancies\"][\"partialRedundancy\"])):\n",
    "                redundant_main_part_annotations += 1\n",
    "            else:\n",
    "                no_redundancies_main_part_annotations += 1\n",
    "            if (bool(_[\"benefitRedundancies\"][\"fullRedundancy\"]) \n",
    "                    or bool(_[\"benefitRedundancies\"][\"partialRedundancy\"])):\n",
    "                redundant_benefit_annotations += 1\n",
    "            else:\n",
    "                no_redundancies_benefit_annotations += 1\n",
    "        print(f\"{model}, {data_set}, Strict Redundancies in Main Part: {redundant_main_part_annotations}, No Strict Reduncancies in Main Part: {no_redundancies_main_part_annotations}, Strict Redundancies in Benefit: {redundant_benefit_annotations}, No Strict Redundancies in Benefit: {no_redundancies_benefit_annotations}\")\n",
    "        redundant_main_part_annotations = no_redundancies_main_part_annotations = redundant_benefit_annotations = no_redundancies_benefit_annotations = 0"
   ]
  },
  {
   "cell_type": "code",
   "execution_count": 21,
   "metadata": {},
   "outputs": [
    {
     "name": "stdout",
     "output_type": "stream",
     "text": [
      "0.04\n",
      "472\n"
     ]
    }
   ],
   "source": [
    "print(calc_repair_avg(gpt_results_annotations))\n",
    "print(calc_total_repair(gpt_results_annotations))"
   ]
  },
  {
   "cell_type": "markdown",
   "metadata": {},
   "source": [
    "### Get all Redundant US with text (add to json)"
   ]
  },
  {
   "cell_type": "code",
   "execution_count": 22,
   "metadata": {},
   "outputs": [
    {
     "name": "stdout",
     "output_type": "stream",
     "text": [
      "[{'PID': '#G22#', 'USID': '1225', 'Text': 'As a PI, I want to properly record all metadata, so that I can ensure proper running of the project in case of staff changes.', 'Main Part': 'As a PI, I want to properly record all metadata', 'Benefit': 'I can ensure proper running of the project in case of staff changes', 'Triggers': {'Main Part': [['PI', 'properly record']], 'Benefit': []}, 'Targets': {'Main Part': [['properly record', 'all metadata']], 'Benefit': [['ensure', 'proper running'], ['changes', 'staff']]}, 'Contains': {'Main Part': [], 'Benefit': []}}, {'PID': '#G22#', 'USID': '1226', 'Text': 'As a researcher, I want to indicate where my data will be stored during the project and where after the project, so that it remains accessible during all stages of the data lifecycle.', 'Main Part': 'As a researcher, I want to indicate where my data will be stored during the project and where after the project', 'Benefit': 'it remains accessible during all stages of the data lifecycle', 'Triggers': {'Main Part': [['researcher', 'indicate']], 'Benefit': []}, 'Targets': {'Main Part': [['indicate', 'where'], ['indicate', 'where']], 'Benefit': [['stored', 'data']]}, 'Contains': {'Main Part': [], 'Benefit': [['where', 'data'], ['project', 'data'], ['data lifecycle', 'all stages'], ['project', 'data']]}}, {'PID': '#G22#', 'USID': '1227', 'Text': 'As a researcher, I want to import metadata that I captured with a metadata tool, so that I do not have to capture it again in a DMP.', 'Main Part': 'As a researcher, I want to import metadata that I captured with a metadata tool', 'Benefit': 'I do not have to capture it again in a DMP', 'Triggers': {'Main Part': [['researcher', 'import']], 'Benefit': []}, 'Targets': {'Main Part': [['import', 'metadata']], 'Benefit': []}, 'Contains': {'Main Part': [], 'Benefit': []}}, {'PID': '#G22#', 'USID': '1228', 'Text': 'As a data manager, I want to know how the data is used, so that I can develop more detailed usage and support scenarios with researchers.', 'Main Part': 'As a data manager, I want to know how the data is used', 'Benefit': 'I can develop more detailed usage and support scenarios with researchers', 'Triggers': {'Main Part': [['data manager', 'know']], 'Benefit': []}, 'Targets': {'Main Part': [['know', 'how']], 'Benefit': [['used', 'data'], ['develop', 'more detailed usage'], ['support', 'scenarios']]}, 'Contains': {'Main Part': [], 'Benefit': []}}, {'PID': '#G22#', 'USID': '1229', 'Text': 'As a repository owner, I want to be able to check the planned provenance of the data that will be submitted at the end of a project, so that I can calculate necessary submission fees and check whether it belongs to our target group.', 'Main Part': 'As a repository owner, I want to be able to check the planned provenance of the data that will be submitted at the end of a project', 'Benefit': 'I can calculate necessary submission fees and check whether it belongs to our target group', 'Triggers': {'Main Part': [['repository owner', 'check']], 'Benefit': []}, 'Targets': {'Main Part': [['check', 'planned provenance']], 'Benefit': [['calculate', 'necessary submission fees']]}, 'Contains': {'Main Part': [['data', 'planned provenance']], 'Benefit': [['project', 'data'], ['target group', 'data']]}}, {'PID': '#G22#', 'USID': '1230', 'Text': 'As an IT manager, I want to know about IT resource requirements early in the project lifecycle, so that I can enable resource acquisition planning.', 'Main Part': 'As an IT manager, I want to know about IT resource requirements early in the project lifecycle', 'Benefit': 'I can enable resource acquisition planning', 'Triggers': {'Main Part': [['IT manager', 'know']], 'Benefit': []}, 'Targets': {'Main Part': [['know', 'IT resource requirements']], 'Benefit': [['enable', 'resource acquisition planning']]}, 'Contains': {'Main Part': [['project lifecycle', 'IT resource requirements']], 'Benefit': []}}, {'PID': '#G22#', 'USID': '1231', 'Text': 'As a PI, I want to plan what kind of data I want to record/store, so that I can ensure it will possible to store it.', 'Main Part': 'As a PI, I want to plan what kind of data I want to record/store', 'Benefit': 'I can ensure it will possible to store it', 'Triggers': {'Main Part': [['PI', 'plan']], 'Benefit': []}, 'Targets': {'Main Part': [['plan', 'kind of data I want to record/store'], ['store', 'kind of data I want to record/store']], 'Benefit': []}, 'Contains': {'Main Part': [], 'Benefit': []}}, {'PID': '#G22#', 'USID': '1232', 'Text': 'As an IT staff member, I want to know the security requirements of the data, so that I know which kind of security measures to apply.', 'Main Part': 'As an IT staff member, I want to know the security requirements of the data', 'Benefit': 'I know which kind of security measures to apply', 'Triggers': {'Main Part': [['IT staff member', 'know']], 'Benefit': []}, 'Targets': {'Main Part': [['know', 'security requirements']], 'Benefit': [['know', ' kind of security measures'], ['apply', ' kind of security measures']]}, 'Contains': {'Main Part': [['data', 'security requirements']], 'Benefit': []}}, {'PID': '#G22#', 'USID': '1233', 'Text': 'As a data manager, I want to have the description of collected data sets that are used or updated throughout the project lifecycle, so that I can ensure the descriptions are current and add detail as the study proceeds.', 'Main Part': 'As a data manager, I want to have the description of collected data sets that are used or updated throughout the project lifecycle', 'Benefit': 'I can ensure the descriptions are current and add detail as the study proceeds', 'Triggers': {'Main Part': [['data manager', 'have']], 'Benefit': []}, 'Targets': {'Main Part': [['have', 'description']], 'Benefit': [['add', 'detail']]}, 'Contains': {'Main Part': [['collected data sets', 'description'], ['project lifecycle', 'description']], 'Benefit': [['descriptions', 'detail']]}}, {'PID': '#G22#', 'USID': '1234', 'Text': 'As a researcher, I want to know which topics are mandatory and similar in all DMPs, so that I can save time through quickly writing it.', 'Main Part': 'As a researcher, I want to know which topics are mandatory and similar in all DMPs', 'Benefit': 'I can save time through quickly writing it', 'Triggers': {'Main Part': [['researcher', 'know']], 'Benefit': []}, 'Targets': {'Main Part': [['know', 'topics']], 'Benefit': []}, 'Contains': {'Main Part': [['all DMPs', 'topics']], 'Benefit': []}}, {'PID': '#G22#', 'USID': '1235', 'Text': 'As a data manager, I want to know what the content of the data is, so that I can decide to which collection or repository the data fits.', 'Main Part': 'As a data manager, I want to know what the content of the data is', 'Benefit': 'I can decide to which collection or repository the data fits', 'Triggers': {'Main Part': [['data manager', 'know']], 'Benefit': []}, 'Targets': {'Main Part': [['know', 'content']], 'Benefit': [['decide', 'collection'], ['decide', 'repository']]}, 'Contains': {'Main Part': [['data', 'content']], 'Benefit': [['repository', 'data'], ['collection', 'data']]}}, {'PID': '#G22#', 'USID': '1236', 'Text': 'As a PI, I want to record information about my DMP, so that an Ethics Committee can review this for compliance with ethical standards.', 'Main Part': 'As a PI, I want to record information about my DMP', 'Benefit': 'an Ethics Committee can review this for compliance with ethical standards', 'Triggers': {'Main Part': [['PI', 'record']], 'Benefit': []}, 'Targets': {'Main Part': [['record', 'information']], 'Benefit': []}, 'Contains': {'Main Part': [['DMP', 'information']], 'Benefit': []}}, {'PID': '#G22#', 'USID': '1237', 'Text': 'As a legalofficer, I want to know about data sensitivity, so that I can establish sharing options.', 'Main Part': 'As a legalofficer, I want to know about data sensitivity', 'Benefit': 'I can establish sharing options', 'Triggers': {'Main Part': [['legalofficer', 'know']], 'Benefit': []}, 'Targets': {'Main Part': [['know', 'data sensitivity']], 'Benefit': [['establish', 'sharing options']]}, 'Contains': {'Main Part': [], 'Benefit': []}}, {'PID': '#G22#', 'USID': '1238', 'Text': 'As a data librarian, I want to extract pointers from the DMP to metadata held in other systems, so that I can import this metadata into a data catalogue.', 'Main Part': 'As a data librarian, I want to extract pointers from the DMP to metadata held in other systems', 'Benefit': 'I can import this metadata into a data catalogue', 'Triggers': {'Main Part': [['data librarian', 'extract']], 'Benefit': []}, 'Targets': {'Main Part': [['extract', 'pointers']], 'Benefit': [['import', 'metadata']]}, 'Contains': {'Main Part': [['DMP', 'pointers'], ['metadata', 'pointers']], 'Benefit': [['other systems', 'metadata'], ['data catalogue', 'metadata']]}}, {'PID': '#G22#', 'USID': '1239', 'Text': 'As an IT staff member, I want to have an estimate of the produced data volume, so that I can plan the overall storage consumption.', 'Main Part': 'As an IT staff member, I want to have an estimate of the produced data volume', 'Benefit': 'I can plan the overall storage consumption', 'Triggers': {'Main Part': [['IT staff member', 'have']], 'Benefit': []}, 'Targets': {'Main Part': [['have', 'estimate']], 'Benefit': [['plan', 'overall storage consumption']]}, 'Contains': {'Main Part': [['produced data volume', 'estimate']], 'Benefit': []}}, {'PID': '#G22#', 'USID': '1240', 'Text': 'As an administrator, I want to know who funded the project and their requirements, so that I can track the funder specific obligations.', 'Main Part': 'As an administrator, I want to know who funded the project and their requirements', 'Benefit': 'I can track the funder specific obligations', 'Triggers': {'Main Part': [['administrator', 'know']], 'Benefit': []}, 'Targets': {'Main Part': [['know', 'who']], 'Benefit': [['funded', 'project'], ['track', 'funder specific obligations']]}, 'Contains': {'Main Part': [['who', 'requirements']], 'Benefit': []}}, {'PID': '#G22#', 'USID': '1241', 'Text': 'As an archivemanager, I want to know the legal status of data, so that I can apply the legal requirements accordingly.', 'Main Part': 'As an archivemanager, I want to know the legal status of data', 'Benefit': 'I can apply the legal requirements accordingly', 'Triggers': {'Main Part': [['archivemanager', 'know']], 'Benefit': []}, 'Targets': {'Main Part': [['know', 'legal status']], 'Benefit': [['apply', 'legal requirements']]}, 'Contains': {'Main Part': [['data', 'legal status']], 'Benefit': []}}, {'PID': '#G22#', 'USID': '1242', 'Text': 'As a data manager, I want to know which kind of data types will be produced or collected, so that I can determine what basic support services and functionalities are required.', 'Main Part': 'As a data manager, I want to know which kind of data types will be produced or collected', 'Benefit': 'I can determine what basic support services and functionalities are required', 'Triggers': {'Main Part': [['data manager', 'know']], 'Benefit': []}, 'Targets': {'Main Part': [['know', 'kind of data types'], ['produced', 'kind of data types'], ['collected', 'kind of data types']], 'Benefit': [['determine', 'basic support services'], ['determine', 'functionalities']]}, 'Contains': {'Main Part': [], 'Benefit': []}}, {'PID': '#G22#', 'USID': '1243', 'Text': 'As an IT staff member, I want to know which kind of data types will be produced or collected, so that I can determine what basic support services and functionalities are required.', 'Main Part': 'As an IT staff member, I want to know which kind of data types will be produced or collected', 'Benefit': 'I can determine what basic support services and functionalities are required', 'Triggers': {'Main Part': [['IT staff member', 'know']], 'Benefit': []}, 'Targets': {'Main Part': [['know', 'kind of data types'], ['produced', 'kind of data types'], ['collected', 'kind of data types']], 'Benefit': [['determine', 'basic support services'], ['determine', 'functionalities']]}, 'Contains': {'Main Part': [], 'Benefit': []}}, {'PID': '#G22#', 'USID': '1244', 'Text': 'As an archivemanager, I want to know in advance the conservation period of data, so that I can better organize the service by adapting the preservation actions.', 'Main Part': 'As an archivemanager, I want to know in advance the conservation period of data', 'Benefit': 'I can better organize the service by adapting the preservation actions', 'Triggers': {'Main Part': [['archivemanager', 'know in advance']], 'Benefit': []}, 'Targets': {'Main Part': [['know in advance', 'conservation period']], 'Benefit': [['better organize', 'service'], ['adapting', 'preservation actions']]}, 'Contains': {'Main Part': [['data', 'conservation period']], 'Benefit': []}}, {'PID': '#G22#', 'USID': '1245', 'Text': 'As a data manager, I want to document all rights necessary for managing the data, so that I can curate and preserve the data.', 'Main Part': 'As a data manager, I want to document all rights necessary for managing the data', 'Benefit': 'I can curate and preserve the data', 'Triggers': {'Main Part': [['data manager', 'document']], 'Benefit': []}, 'Targets': {'Main Part': [['document', 'all rights']], 'Benefit': [['managing', 'data'], ['curate', 'data'], ['preserve', 'data']]}, 'Contains': {'Main Part': [['data', 'all rights']], 'Benefit': []}}, {'PID': '#G22#', 'USID': '1246', 'Text': 'As a data manager, I want to know what the content of the data is, so that I can check whether the necessary expertise for maintaining intellectual reusability is available.', 'Main Part': 'As a data manager, I want to know what the content of the data is', 'Benefit': 'I can check whether the necessary expertise for maintaining intellectual reusability is available', 'Triggers': {'Main Part': [['data manager', 'know']], 'Benefit': []}, 'Targets': {'Main Part': [['know', 'content']], 'Benefit': [['maintaining', 'intellectual reusability'], ['check', 'necessary expertise']]}, 'Contains': {'Main Part': [['data', 'content']], 'Benefit': []}}, {'PID': '#G22#', 'USID': '1247', 'Text': 'As a research head, I want to access to the persistent identifiers of datasets provided in the DMP, so that I can check that the DMP has been implemented.', 'Main Part': 'As a research head, I want to access to the persistent identifiers of datasets provided in the DMP', 'Benefit': 'I can check that the DMP has been implemented', 'Triggers': {'Main Part': [['research head', 'access']], 'Benefit': []}, 'Targets': {'Main Part': [['access', 'persistent identifiers']], 'Benefit': [['check', 'DMP'], ['implemented', 'DMP']]}, 'Contains': {'Main Part': [['datasets', 'persistent identifiers'], ['DMP', 'persistent identifiers']], 'Benefit': []}}, {'PID': '#G22#', 'USID': '1248', 'Text': 'As a funder, I want to be able to read the costs for data management from the DMP, so that I can check whether our policies work as intended.', 'Main Part': 'As a funder, I want to be able to read the costs for data management from the DMP', 'Benefit': 'I can check whether our policies work as intended', 'Triggers': {'Main Part': [['funder', 'read']], 'Benefit': []}, 'Targets': {'Main Part': [['read', 'costs']], 'Benefit': [['check', 'policies']]}, 'Contains': {'Main Part': [['data management', 'costs']], 'Benefit': [['DMP', 'data management']]}}, {'PID': '#G22#', 'USID': '1249', 'Text': 'As a researcher, I want the DMP to prepopulate information that I have already entered in other institutional systems, so that I do not have to re-enter information ensuring the DMP contains accurate and standardized information.', 'Main Part': 'As a researcher, I want the DMP to prepopulate information that I have already entered in other institutional systems', 'Benefit': 'I do not have to re-enter information ensuring the DMP contains accurate and standardized information', 'Triggers': {'Main Part': [['researcher', 'want']], 'Benefit': []}, 'Targets': {'Main Part': [['want', 'DMP']], 'Benefit': [['prepopulate', 'information']]}, 'Contains': {'Main Part': [], 'Benefit': [['institutional systems', 'information'], ['DMP', 'accurate and standardized information']]}}, {'PID': '#G22#', 'USID': '1250', 'Text': 'As a stakeholder, I want to know when the data management plan was created or updated, so that I know how up-to-date the plan is or whether it needs to be updated.', 'Main Part': 'As a stakeholder, I want to know when the data management plan was created or updated', 'Benefit': 'I know how up-to-date the plan is or whether it needs to be updated', 'Triggers': {'Main Part': [['stakeholder', 'know']], 'Benefit': []}, 'Targets': {'Main Part': [['know', 'when']], 'Benefit': [['created', 'data management plan'], ['updated', 'data management plan'], ['know', 'how up-to-date'], ['updated', 'data management plan']]}, 'Contains': {'Main Part': [], 'Benefit': []}}, {'PID': '#G22#', 'USID': '1251', 'Text': 'As a stakeholder, I want to know who is responsible for the DMP, so that I can ask them about further details.', 'Main Part': 'As a stakeholder, I want to know who is responsible for the DMP', 'Benefit': 'I can ask them about further details', 'Triggers': {'Main Part': [['stakeholder', 'know']], 'Benefit': []}, 'Targets': {'Main Part': [['know', 'who is responsible']], 'Benefit': [['ask', 'further details']]}, 'Contains': {'Main Part': [], 'Benefit': []}}, {'PID': '#G22#', 'USID': '1252', 'Text': 'As a stakeholder, I want to have references to the project proposal, so that I can look up further general information.', 'Main Part': 'As a stakeholder, I want to have references to the project proposal', 'Benefit': 'I can look up further general information', 'Triggers': {'Main Part': [['stakeholder', 'have']], 'Benefit': []}, 'Targets': {'Main Part': [['have', 'references']], 'Benefit': [['look up', 'further general information']]}, 'Contains': {'Main Part': [['project proposal', 'references']], 'Benefit': []}}, {'PID': '#G22#', 'USID': '1253', 'Text': 'As a metadata manager, I want to have a short description of project, so that I can be informed about the metadata description.', 'Main Part': 'As a metadata manager, I want to have a short description of project', 'Benefit': 'I can be informed about the metadata description', 'Triggers': {'Main Part': [['metadata manager', 'have']], 'Benefit': []}, 'Targets': {'Main Part': [['have', 'short description']], 'Benefit': []}, 'Contains': {'Main Part': [['project', 'short description']], 'Benefit': []}}, {'PID': '#G22#', 'USID': '1254', 'Text': 'As a rector, I want to know how many data will be stored, so that I can plan long term resources.', 'Main Part': 'As a rector, I want to know how many data will be stored', 'Benefit': 'I can plan long term resources', 'Triggers': {'Main Part': [['rector', 'know']], 'Benefit': []}, 'Targets': {'Main Part': [['know', 'how many']], 'Benefit': [['stored', 'data'], ['plan', 'long term resources']]}, 'Contains': {'Main Part': [], 'Benefit': []}}, {'PID': '#G22#', 'USID': '1255', 'Text': 'As a data manager, I want to know the time plan for collecting data, so that I can plan the data management.', 'Main Part': 'As a data manager, I want to know the time plan for collecting data', 'Benefit': 'I can plan the data management', 'Triggers': {'Main Part': [['data manager', 'know']], 'Benefit': []}, 'Targets': {'Main Part': [['know', 'time plan']], 'Benefit': [['collecting', 'data'], ['plan', 'data management']]}, 'Contains': {'Main Part': [['data', 'time plan']], 'Benefit': []}}, {'PID': '#G22#', 'USID': '1256', 'Text': 'As a data librarian, I want to import administrative information regarding a project into DMP, so that I can prepopulate the DMP.', 'Main Part': 'As a data librarian, I want to import administrative information regarding a project into DMP', 'Benefit': 'I can prepopulate the DMP', 'Triggers': {'Main Part': [['data librarian', 'import']], 'Benefit': []}, 'Targets': {'Main Part': [['import', 'administrative information']], 'Benefit': [['prepopulate', 'DMP']]}, 'Contains': {'Main Part': [['DMP', 'administrative information'], ['project', 'administrative information']], 'Benefit': []}}, {'PID': '#G22#', 'USID': '1257', 'Text': 'As a manager, I want to know about all resources and services used for the data, so that I can estimate the true cost of the project.', 'Main Part': 'As a manager, I want to know about all resources and services used for the data', 'Benefit': 'I can estimate the true cost of the project', 'Triggers': {'Main Part': [['manager', 'know']], 'Benefit': []}, 'Targets': {'Main Part': [['know', 'all resources'], ['know', 'services used']], 'Benefit': [['estimate', 'true cost']]}, 'Contains': {'Main Part': [], 'Benefit': [['project', 'true cost']]}}, {'PID': '#G22#', 'USID': '1258', 'Text': 'As an archivemanager, I want to reuse the information regarding file format, so that I can apply automated checks for the file validation.', 'Main Part': 'As an archivemanager, I want to reuse the information regarding file format', 'Benefit': 'I can apply automated checks for the file validation', 'Triggers': {'Main Part': [['archivemanager', 'reuse']], 'Benefit': []}, 'Targets': {'Main Part': [['reuse', 'information']], 'Benefit': [['apply', 'automated checks']]}, 'Contains': {'Main Part': [['file format', 'information']], 'Benefit': [['file validation', 'automated checks']]}}, {'PID': '#G22#', 'USID': '1259', 'Text': 'As a researcher, I want to know how many resources are needed during the project, so that I can calculate costs.', 'Main Part': 'As a researcher, I want to know how many resources are needed during the project', 'Benefit': 'I can calculate costs', 'Triggers': {'Main Part': [['researcher', 'know']], 'Benefit': []}, 'Targets': {'Main Part': [['know', 'how many']], 'Benefit': [['calculate', 'costs']]}, 'Contains': {'Main Part': [], 'Benefit': [['project', 'resources']]}}, {'PID': '#G22#', 'USID': '1260', 'Text': 'As a researcher, I want to extract the description of the data collected, so that I can reuse it for the writing of a data paper.', 'Main Part': 'As a researcher, I want to extract the description of the data collected', 'Benefit': 'I can reuse it for the writing of a data paper', 'Triggers': {'Main Part': [['researcher', 'extract']], 'Benefit': []}, 'Targets': {'Main Part': [['extract', 'description']], 'Benefit': [['writing', 'data paper']]}, 'Contains': {'Main Part': [['data collected', 'description']], 'Benefit': []}}, {'PID': '#G22#', 'USID': '1261', 'Text': 'As a researcher, I want to record research publications in the institutional repository or CRIS with DMP records, so that I can generate reports of research output resulting from a project.', 'Main Part': 'As a researcher, I want to record research publications in the institutional repository or CRIS with DMP records', 'Benefit': 'I can generate reports of research output resulting from a project', 'Triggers': {'Main Part': [['researcher', 'record']], 'Benefit': []}, 'Targets': {'Main Part': [['record', 'research publications']], 'Benefit': [['generate', 'reports']]}, 'Contains': {'Main Part': [['institutional repository', 'research publications'], ['CRIS', 'research publications']], 'Benefit': [['project', 'research output'], ['institutional repository', 'DMP records'], ['CRIS', 'DMP records'], ['reports', 'research output']]}}, {'PID': '#G22#', 'USID': '1262', 'Text': 'As a researcher, I want to link research publications in the institutional repository or CRIS with DMP records, so that I can generate reports of research output resulting from a project.', 'Main Part': 'As a researcher, I want to link research publications in the institutional repository or CRIS with DMP records', 'Benefit': 'I can generate reports of research output resulting from a project', 'Triggers': {'Main Part': [['researcher', 'link']], 'Benefit': []}, 'Targets': {'Main Part': [['link', 'research publications']], 'Benefit': [['generate', 'reports']]}, 'Contains': {'Main Part': [['institutional repository', 'research publications'], ['CRIS', 'research publications']], 'Benefit': [['institutional repository', 'DMP records'], ['CRIS', 'DMP records'], ['project', 'research output'], ['reports', 'research output']]}}, {'PID': '#G22#', 'USID': '1263', 'Text': 'As a researcher, I want to store agreements relating to third party data used in a project, so that the data can be cited, attributed and used correctly.', 'Main Part': 'As a researcher, I want to store agreements relating to third party data used in a project', 'Benefit': 'the data can be cited, attributed and used correctly', 'Triggers': {'Main Part': [['researcher', 'store']], 'Benefit': []}, 'Targets': {'Main Part': [['store', 'agreements']], 'Benefit': [['cited', 'data'], ['attributed', 'data'], ['used correctly', 'data']]}, 'Contains': {'Main Part': [], 'Benefit': [['project', 'third party data']]}}, {'PID': '#G22#', 'USID': '1264', 'Text': 'As an ethics manager, I want to be informed about the data, so that I can check for sensitivity of data.', 'Main Part': 'As an ethics manager, I want to be informed about the data', 'Benefit': 'I can check for sensitivity of data', 'Triggers': {'Main Part': [['ethics manager', 'be informed']], 'Benefit': []}, 'Targets': {'Main Part': [['be informed', 'data']], 'Benefit': [['check', 'sensitivity']]}, 'Contains': {'Main Part': [], 'Benefit': [['data', 'sensitivity']]}}, {'PID': '#G22#', 'USID': '1265', 'Text': 'As a repository operator, I want to know about the kind of data, so that I can evaluate the storage size and system.', 'Main Part': 'As a repository operator, I want to know about the kind of data', 'Benefit': 'I can evaluate the storage size and system', 'Triggers': {'Main Part': [['repository operator', 'know']], 'Benefit': []}, 'Targets': {'Main Part': [['know', 'kind of data']], 'Benefit': [['evaluate', 'storage size'], ['evaluate', 'system']]}, 'Contains': {'Main Part': [], 'Benefit': []}}, {'PID': '#G22#', 'USID': '1266', 'Text': 'As a researcher, I want to know about costs, so that I can plan my research.', 'Main Part': 'As a researcher, I want to know about costs', 'Benefit': 'I can plan my research', 'Triggers': {'Main Part': [['researcher', 'know']], 'Benefit': []}, 'Targets': {'Main Part': [['know', 'costs']], 'Benefit': [['plan', 'research']]}, 'Contains': {'Main Part': [], 'Benefit': []}}, {'PID': '#G22#', 'USID': '1267', 'Text': 'As a repository manager, I need details on the type of data, so that I can check if the archiving can be arranged.', 'Main Part': 'As a repository manager, I need details on the type of data', 'Benefit': 'I can check if the archiving can be arranged', 'Triggers': {'Main Part': [['repository manager', 'need']], 'Benefit': []}, 'Targets': {'Main Part': [['need', 'details']], 'Benefit': [['check', 'archiving'], ['arranged', 'archiving']]}, 'Contains': {'Main Part': [['type of data', 'details']], 'Benefit': []}}, {'PID': '#G22#', 'USID': '1268', 'Text': 'As an IT officer, I want to know how secure data is, so that I can ensure legal compliance.', 'Main Part': 'As an IT officer, I want to know how secure data is', 'Benefit': 'I can ensure legal compliance', 'Triggers': {'Main Part': [['IT officer', 'know']], 'Benefit': []}, 'Targets': {'Main Part': [['know', 'how secure']], 'Benefit': [['ensure', 'legal compliance']]}, 'Contains': {'Main Part': [], 'Benefit': []}}, {'PID': '#G22#', 'USID': '1269', 'Text': 'As a funder, I want to know how secure data is, so that I can ensure legal compliance.', 'Main Part': 'As a funder, I want to know how secure data is', 'Benefit': 'I can ensure legal compliance', 'Triggers': {'Main Part': [['funder', 'know']], 'Benefit': []}, 'Targets': {'Main Part': [['know', 'how secure']], 'Benefit': [['ensure', 'legal compliance']]}, 'Contains': {'Main Part': [], 'Benefit': []}}, {'PID': '#G22#', 'USID': '1270', 'Text': 'As a Research Centre Director, I want to receive regular summary reports of research data, so that I understand trends in data use among staff and postgraduate students.', 'Main Part': 'As a Research Centre Director, I want to receive regular summary reports of research data', 'Benefit': 'I understand trends in data use among staff and postgraduate students', 'Triggers': {'Main Part': [['Research Centre Director', 'receive']], 'Benefit': []}, 'Targets': {'Main Part': [['receive', 'regular summary reports']], 'Benefit': [['understand', 'trends']]}, 'Contains': {'Main Part': [['regular summary reports', 'research data']], 'Benefit': [['data use', 'trends']]}}, {'PID': '#G22#', 'USID': '1271', 'Text': 'As a Postgraduate Convenor, I want to receive regular summary reports of research data, so that I understand trends in data use among staff and postgraduate students.', 'Main Part': 'As a Postgraduate Convenor, I want to receive regular summary reports of research data', 'Benefit': 'I understand trends in data use among staff and postgraduate students', 'Triggers': {'Main Part': [['Postgraduate Convenor', 'receive']], 'Benefit': []}, 'Targets': {'Main Part': [['receive', 'regular summary reports']], 'Benefit': [['understand', 'trends']]}, 'Contains': {'Main Part': [['research data', 'regular summary reports']], 'Benefit': [['data use', 'trends']]}}, {'PID': '#G22#', 'USID': '1272', 'Text': 'As a research support officer, I want to ensure compliance to the funders’ rules, so that I can ensure all costs will be accepted.', 'Main Part': 'As a research support officer, I want to ensure compliance to the funders’ rules', 'Benefit': 'I can ensure all costs will be accepted', 'Triggers': {'Main Part': [['research support officer', 'ensure']], 'Benefit': []}, 'Targets': {'Main Part': [['ensure', 'compliance ']], 'Benefit': [['accepted', 'all costs']]}, 'Contains': {'Main Part': [], 'Benefit': []}}, {'PID': '#G22#', 'USID': '1273', 'Text': 'As a funder, I want to be able to check all the repositories mentioned in a DMP, so that I can verify whether the project has followed our funding rules.', 'Main Part': 'As a funder, I want to be able to check all the repositories mentioned in a DMP', 'Benefit': 'I can verify whether the project has followed our funding rules', 'Triggers': {'Main Part': [['funder', 'check']], 'Benefit': []}, 'Targets': {'Main Part': [['check', 'repositories mentioned']], 'Benefit': [['followed', 'funding rules'], ['verify', 'project']]}, 'Contains': {'Main Part': [['DMP', 'repositories mentioned']], 'Benefit': [['project', 'funding rules']]}}, {'PID': '#G22#', 'USID': '1274', 'Text': 'As a PI, I want to plan what kind of data I want to store, so that I can ensure it will be possible to store it.', 'Main Part': 'As a PI, I want to plan what kind of data I want to store', 'Benefit': 'I can ensure it will be possible to store it', 'Triggers': {'Main Part': [['PI', 'plan']], 'Benefit': []}, 'Targets': {'Main Part': [['plan', 'kind of data I want to store'], ['store', 'kind of data I want to store']], 'Benefit': []}, 'Contains': {'Main Part': [], 'Benefit': []}}, {'PID': '#G22#', 'USID': '1275', 'Text': 'As a PI, I want to know how secure data is, so that I can ensure legal compliance.', 'Main Part': 'As a PI, I want to know how secure data is', 'Benefit': 'I can ensure legal compliance', 'Triggers': {'Main Part': [['PI', 'know']], 'Benefit': []}, 'Targets': {'Main Part': [['know', 'how secure']], 'Benefit': [['ensure', 'legal compliance']]}, 'Contains': {'Main Part': [], 'Benefit': []}}, {'PID': '#G22#', 'USID': '1276', 'Text': 'As a Director of Research Integrity, I want to access reports containing details of research projects in which data are classified as sensitive or highly sensitive, so that I can confirm security protocols are applied to these data.', 'Main Part': 'As a Director of Research Integrity, I want to access reports containing details of research projects in which data are classified as sensitive or highly sensitive', 'Benefit': 'I can confirm security protocols are applied to these data', 'Triggers': {'Main Part': [['Director of Research Integrity', 'access']], 'Benefit': []}, 'Targets': {'Main Part': [['access', 'reports']], 'Benefit': [['confirm', 'security protocols'], ['applied', 'security protocols'], ['classified', 'data']]}, 'Contains': {'Main Part': [['reports', 'details']], 'Benefit': [['data', 'security protocols'], ['research projects', 'details']]}}, {'PID': '#G22#', 'USID': '1277', 'Text': 'As an archive, I want to get information about the volume of data to preserve at an early stage, so that I can provide the adequate storage infrastructure.', 'Main Part': 'As an archive, I want to get information about the volume of data to preserve at an early stage', 'Benefit': 'I can provide the adequate storage infrastructure', 'Triggers': {'Main Part': [['archive', 'get']], 'Benefit': []}, 'Targets': {'Main Part': [['get', 'information']], 'Benefit': [['provide', 'adequate storage infrastructure']]}, 'Contains': {'Main Part': [['volume', 'information']], 'Benefit': [['data to preserve', 'volume']]}}, {'PID': '#G22#', 'USID': '1278', 'Text': 'As a researcher, I want to know how long it will take to archive, so that I can plan further steps.', 'Main Part': 'As a researcher, I want to know how long it will take to archive', 'Benefit': 'I can plan further steps', 'Triggers': {'Main Part': [['researcher', 'know']], 'Benefit': []}, 'Targets': {'Main Part': [['know', 'how long']], 'Benefit': [['plan', 'further steps']]}, 'Contains': {'Main Part': [], 'Benefit': []}}, {'PID': '#G22#', 'USID': '1279', 'Text': 'As a PI, I want to know who owns the data, so that I know what I am allowed to do with it.', 'Main Part': 'As a PI, I want to know who owns the data', 'Benefit': 'I know what I am allowed to do with it', 'Triggers': {'Main Part': [['PI', 'know']], 'Benefit': []}, 'Targets': {'Main Part': [['know', 'who']], 'Benefit': [['know', 'what']]}, 'Contains': {'Main Part': [['who', 'data']], 'Benefit': []}}, {'PID': '#G22#', 'USID': '1280', 'Text': 'As a data manager, I want to have references to documentation of the data and its creation process, so that the data can be re-used and managed.', 'Main Part': 'As a data manager, I want to have references to documentation of the data and its creation process', 'Benefit': 'the data can be re-used and managed', 'Triggers': {'Main Part': [['data manager', 'have']], 'Benefit': []}, 'Targets': {'Main Part': [['have', 'references'], ['have', 'creation process']], 'Benefit': [['re-used', 'data'], ['managed', 'data']]}, 'Contains': {'Main Part': [['documentation', 'references'], ['documentation', 'creation process']], 'Benefit': [['data', 'documentation']]}}, {'PID': '#G22#', 'USID': '1281', 'Text': 'As an archivemanager, I want to make sure that detailed metadata are associated to data so that it will be understandable by future users.', 'Main Part': 'As an archivemanager, I want to make sure that detailed metadata are associated to data', 'Benefit': 'it will be understandable by future users', 'Triggers': {'Main Part': [['archivemanager', 'make sure']], 'Benefit': []}, 'Targets': {'Main Part': [], 'Benefit': [['associated', 'detailed metadata']]}, 'Contains': {'Main Part': [], 'Benefit': [['data', 'detailed metadata']]}}, {'PID': '#G22#', 'USID': '1282', 'Text': 'As a data manager, I want to know which kind of data types will be produced or collected, so that I can ensure that the necessary technical resources and technical know-how is available.', 'Main Part': 'As a data manager, I want to know which kind of data types will be produced or collected', 'Benefit': 'I can ensure that the necessary technical resources and technical know-how is available', 'Triggers': {'Main Part': [['data manager', 'know']], 'Benefit': []}, 'Targets': {'Main Part': [['know', 'kind of data types'], ['produced', 'kind of data types'], ['collected', 'kind of data types']], 'Benefit': []}, 'Contains': {'Main Part': [], 'Benefit': []}}, {'PID': '#G22#', 'USID': '1283', 'Text': 'As an IT staff member, I want to know which kind of data types will be produced or collected, so that I can ensure that the necessary technical resources and technical know-how is available.', 'Main Part': 'As an IT staff member, I want to know which kind of data types will be produced or collected', 'Benefit': 'I can ensure that the necessary technical resources and technical know-how is available', 'Triggers': {'Main Part': [['IT staff member', 'know']], 'Benefit': []}, 'Targets': {'Main Part': [['know', 'kind of data types'], ['produced', 'kind of data types'], ['collected', 'kind of data types']], 'Benefit': []}, 'Contains': {'Main Part': [], 'Benefit': []}}, {'PID': '#G22#', 'USID': '1284', 'Text': 'As an IT staff member, I want to know how the data is used, so that I can determine what kind of basic services and functionalities are required.', 'Main Part': 'As an IT staff member, I want to know how the data is used', 'Benefit': 'I can determine what kind of basic services and functionalities are required', 'Triggers': {'Main Part': [['IT staff member', 'know']], 'Benefit': []}, 'Targets': {'Main Part': [['know', 'how']], 'Benefit': [['used', 'data'], ['determine', 'kind of basic services'], ['determine', 'functionalities']]}, 'Contains': {'Main Part': [], 'Benefit': []}}, {'PID': '#G22#', 'USID': '1285', 'Text': 'As a data manager, I want to know whether the collected data depends on other data sets from my own or other institutions, so that I can ensure that these dependencies are maintained.', 'Main Part': 'As a data manager, I want to know whether the collected data depends on other data sets from my own or other institutions', 'Benefit': 'I can ensure that these dependencies are maintained', 'Triggers': {'Main Part': [['data manager', 'know']], 'Benefit': []}, 'Targets': {'Main Part': [], 'Benefit': [['maintained', 'dependencies']]}, 'Contains': {'Main Part': [], 'Benefit': [['own or other institutions', 'other data sets']]}}, {'PID': '#G22#', 'USID': '1286', 'Text': 'As an IT staff member, I want to know which formats are used, so that I can determine what kind of technical services and functionalities are required.', 'Main Part': 'As an IT staff member, I want to know which formats are used', 'Benefit': 'I can determine what kind of technical services and functionalities are required', 'Triggers': {'Main Part': [['IT staff member', 'know']], 'Benefit': []}, 'Targets': {'Main Part': [['know', 'formats'], ['used', 'formats']], 'Benefit': [['determine', 'kind of technical services'], ['determine', 'functionalities']]}, 'Contains': {'Main Part': [], 'Benefit': []}}, {'PID': '#G22#', 'USID': '1287', 'Text': 'As an IT staff member, I want to know with which software or technology the data is produced or used, so that I can determine what kind of technical services and functionalities are required.', 'Main Part': 'As an IT staff member, I want to know with which software or technology the data is produced or used', 'Benefit': 'I can determine what kind of technical services and functionalities are required', 'Triggers': {'Main Part': [['IT staff member', 'know']], 'Benefit': []}, 'Targets': {'Main Part': [['know', 'software'], ['know', 'technology']], 'Benefit': [['produced', 'data'], ['used', 'data'], ['determine', 'kind of technical services'], ['determine', 'functionalities']]}, 'Contains': {'Main Part': [['software', 'data'], ['technology', 'data']], 'Benefit': []}}, {'PID': '#G22#', 'USID': '1288', 'Text': 'As a data manager, I want to know which information is necessary to re-use the data, so that it can be checked whether all necessary information is available for researchers interested in re-using the data.', 'Main Part': 'As a data manager, I want to know which information is necessary to re-use the data', 'Benefit': 'it can be checked whether all necessary information is available for researchers interested in re-using the data', 'Triggers': {'Main Part': [['data manager', 'know']], 'Benefit': []}, 'Targets': {'Main Part': [['know', 'information']], 'Benefit': [['re-use', 'data'], ['re-using', 'data'], ['checked', 'information']]}, 'Contains': {'Main Part': [], 'Benefit': [['researchers', 'all necessary information']]}}, {'PID': '#G22#', 'USID': '1289', 'Text': 'As a data manager, I want to know which formats are used, so that I know what technology or background information might be necessary to use the data.', 'Main Part': 'As a data manager, I want to know which formats are used', 'Benefit': 'I know what technology or background information might be necessary to use the data', 'Triggers': {'Main Part': [['data manager', 'know']], 'Benefit': []}, 'Targets': {'Main Part': [['know', 'formats'], ['used', 'formats']], 'Benefit': [['know', 'technology'], ['know', 'background information'], ['use', 'data']]}, 'Contains': {'Main Part': [], 'Benefit': []}}, {'PID': '#G22#', 'USID': '1290', 'Text': 'As a data manager, I want to know whether the data can be reproduced efficiently, so that I can determine whether and how the data has to be stored.', 'Main Part': 'As a data manager, I want to know whether the data can be reproduced efficiently', 'Benefit': 'I can determine whether and how the data has to be stored', 'Triggers': {'Main Part': [['data manager', 'know']], 'Benefit': []}, 'Targets': {'Main Part': [], 'Benefit': [['reproduced efficiently', 'data'], ['determine', 'how'], ['stored', 'data']]}, 'Contains': {'Main Part': [], 'Benefit': []}}, {'PID': '#G22#', 'USID': '1291', 'Text': 'As a data manager, I want to know with which software or technology the data is produced or used, so that I know what technology or background information might be necessary to (re-)use the data.', 'Main Part': 'As a data manager, I want to know with which software or technology the data is produced or used', 'Benefit': 'I know what technology or background information might be necessary to (re-)use the data', 'Triggers': {'Main Part': [['data manager', 'know']], 'Benefit': []}, 'Targets': {'Main Part': [['know', 'software'], ['know', 'technology'], ['know', 'technology']], 'Benefit': [['produced', 'data'], ['used', 'data'], ['know', 'background information'], ['(re-)use', 'data']]}, 'Contains': {'Main Part': [['software', 'data']], 'Benefit': [['technology', 'data']]}}, {'PID': '#G22#', 'USID': '1292', 'Text': 'As a research evaluation manager, I want to ensure all data are quoted correctly with our affiliation, so that they are counted towards our citation counts.', 'Main Part': 'As a research evaluation manager, I want to ensure all data are quoted correctly with our affiliation', 'Benefit': 'they are counted towards our citation counts', 'Triggers': {'Main Part': [['research evaluation manager', 'ensure']], 'Benefit': []}, 'Targets': {'Main Part': [], 'Benefit': [['quoted correctly', 'all data']]}, 'Contains': {'Main Part': [], 'Benefit': [['all data', 'affiliation']]}}, {'PID': '#G22#', 'USID': '1293', 'Text': 'As an administrator, I want to check that all data has the appropriate security level, so that I can demonstrate compliance.', 'Main Part': 'As an administrator, I want to check that all data has the appropriate security level', 'Benefit': 'I can demonstrate compliance', 'Triggers': {'Main Part': [['administrator', 'check']], 'Benefit': []}, 'Targets': {'Main Part': [['check', 'all data']], 'Benefit': [['demonstrate', 'compliance']]}, 'Contains': {'Main Part': [['all data', 'appropriate security level']], 'Benefit': []}}, {'PID': '#G22#', 'USID': '1294', 'Text': 'As a data manager, I want to know the security requirements of the data, so that I can check whether the data can be kept secure.', 'Main Part': 'As a data manager, I want to know the security requirements of the data', 'Benefit': 'I can check whether the data can be kept secure', 'Triggers': {'Main Part': [['data manager', 'know']], 'Benefit': []}, 'Targets': {'Main Part': [['know', 'security requirements']], 'Benefit': [['kept secure', 'data']]}, 'Contains': {'Main Part': [['data', 'security requirements']], 'Benefit': []}}, {'PID': '#G22#', 'USID': '1295', 'Text': 'As a institutional data steward, I want to be able to extract the data sets that are submitted to external repositories, so that I can add them to an institutional data catalogue.', 'Main Part': 'As a institutional data steward, I want to be able to extract the data sets that are submitted to external repositories', 'Benefit': 'I can add them to an institutional data catalogue', 'Triggers': {'Main Part': [['institutional data steward', 'extract']], 'Benefit': []}, 'Targets': {'Main Part': [['extract', 'data sets']], 'Benefit': []}, 'Contains': {'Main Part': [['external repositories', 'data sets']], 'Benefit': []}}, {'PID': '#G22#', 'USID': '1296', 'Text': 'As an institutional data manager, I want to know about the privacy and security requirements of the data, so that I can plan the right storage system and sharing permissions.', 'Main Part': 'As an institutional data manager, I want to know about the privacy and security requirements of the data', 'Benefit': 'I can plan the right storage system and sharing permissions', 'Triggers': {'Main Part': [['institutional data manager', 'know']], 'Benefit': []}, 'Targets': {'Main Part': [['know', 'privacy'], ['know', 'security requirements']], 'Benefit': [['plan', 'right storage system'], ['plan', 'sharing permissions']]}, 'Contains': {'Main Part': [['data', 'privacy'], ['data', 'security requirements']], 'Benefit': []}}, {'PID': '#G22#', 'USID': '1297', 'Text': 'As a researcher, I want to see the sections on costing by other researchers in my department, so that I can see if we could share data manager posts.', 'Main Part': 'As a researcher, I want to see the sections on costing by other researchers in my department', 'Benefit': 'I can see if we could share data manager posts', 'Triggers': {'Main Part': [['researcher', 'see']], 'Benefit': []}, 'Targets': {'Main Part': [['see', 'sections']], 'Benefit': [['share', 'data manager posts']]}, 'Contains': {'Main Part': [['sections', 'costing']], 'Benefit': [['department', 'other researchers'], ['other researchers', 'costing']]}}, {'PID': '#G22#', 'USID': '1298', 'Text': 'As a researcher, I want to see the sections on roles submitted by other researchers in my department, so that I can see if we could share data manager posts.', 'Main Part': 'As a researcher, I want to see the sections on roles submitted by other researchers in my department', 'Benefit': 'I can see if we could share data manager posts', 'Triggers': {'Main Part': [['researcher', 'see']], 'Benefit': []}, 'Targets': {'Main Part': [['see', 'sections']], 'Benefit': [['share', 'data manager posts'], ['submitted', 'roles']]}, 'Contains': {'Main Part': [['sections', 'roles']], 'Benefit': [['department', 'other researchers'], ['other researchers', 'roles']]}}, {'PID': '#G22#', 'USID': '1299', 'Text': 'As a researcher, I want to see the sections on responsibilities submitted by other researchers in my department, so that I can see if we could share data manager posts.', 'Main Part': 'As a researcher, I want to see the sections on responsibilities submitted by other researchers in my department', 'Benefit': 'I can see if we could share data manager posts', 'Triggers': {'Main Part': [['researcher', 'see']], 'Benefit': []}, 'Targets': {'Main Part': [['see', 'sections']], 'Benefit': [['share', 'data manager posts'], ['submitted', 'responsibilities']]}, 'Contains': {'Main Part': [['sections', 'responsibilities']], 'Benefit': [['department', 'other researchers'], ['other researchers', 'responsibilities']]}}, {'PID': '#G22#', 'USID': '1300', 'Text': 'As a faculty data steward, I want to see the sections on costing, so that I can ensure sufficient expertise on data management to support the project.', 'Main Part': 'As a faculty data steward, I want to see the sections on costing', 'Benefit': 'I can ensure sufficient expertise on data management to support the project', 'Triggers': {'Main Part': [['faculty data steward', 'see']], 'Benefit': []}, 'Targets': {'Main Part': [['see', 'sections']], 'Benefit': [['ensure', 'sufficient expertise'], ['support', 'project']]}, 'Contains': {'Main Part': [['sections', 'costing']], 'Benefit': [['data management', 'sufficient expertise'], ['project', 'data management']]}}, {'PID': '#G22#', 'USID': '1301', 'Text': 'As a faculty data steward, I want to see the sections on roles, so that I can ensure sufficient expertise on data management to support the project.', 'Main Part': 'As a faculty data steward, I want to see the sections on roles', 'Benefit': 'I can ensure sufficient expertise on data management to support the project', 'Triggers': {'Main Part': [['faculty data steward', 'see']], 'Benefit': []}, 'Targets': {'Main Part': [['see', 'sections']], 'Benefit': [['ensure', 'sufficient expertise'], ['support', 'project']]}, 'Contains': {'Main Part': [['sections', 'roles']], 'Benefit': [['data management', 'sufficient expertise'], ['project', 'data management']]}}, {'PID': '#G22#', 'USID': '1302', 'Text': 'As a faculty data steward, I want to see the sections on responsibilities, so that I can ensure sufficient expertise on data management to support the project.', 'Main Part': 'As a faculty data steward, I want to see the sections on responsibilities', 'Benefit': 'I can ensure sufficient expertise on data management to support the project', 'Triggers': {'Main Part': [['faculty data steward,', 'see']], 'Benefit': []}, 'Targets': {'Main Part': [['see', 'sections']], 'Benefit': [['support', 'project'], ['ensure', 'sufficient expertise']]}, 'Contains': {'Main Part': [['sections', 'responsibilities']], 'Benefit': [['data management', 'sufficient expertise'], ['project', 'data management']]}}, {'PID': '#G22#', 'USID': '1303', 'Text': 'As a data manager, I want to clarify the necessary rights for re-using the data, so that it is legal to reuse the data.', 'Main Part': 'As a data manager, I want to clarify the necessary rights for re-using the data', 'Benefit': 'it is legal to reuse the data', 'Triggers': {'Main Part': [['data manager', 'clarify']], 'Benefit': []}, 'Targets': {'Main Part': [['clarify', 'necessary rights']], 'Benefit': [['re-using', 'data'], ['reuse', 'data']]}, 'Contains': {'Main Part': [['data', 'necessary rights']], 'Benefit': []}}, {'PID': '#G22#', 'USID': '1304', 'Text': 'As a researcher, I want to record my intention to share data I have collected under terms of a particular licence, so that other researchers who use the data understand the rights of use.', 'Main Part': 'As a researcher, I want to record my intention to share data I have collected under terms of a particular licence', 'Benefit': 'other researchers who use the data understand the rights of use', 'Triggers': {'Main Part': [['researcher', 'record']], 'Benefit': []}, 'Targets': {'Main Part': [['record', 'intention']], 'Benefit': [['share', 'data I have collected'], ['use', 'data'], ['understand', 'rights of use']]}, 'Contains': {'Main Part': [], 'Benefit': [['particular licence', 'terms'], ['data', 'rights of use']]}}, {'PID': '#G22#', 'USID': '1305', 'Text': 'As a data manager, I want to plan the anonymization of data, so that we protect the privacy of the people participating in the research as good as possible and still ensure reusability of data.', 'Main Part': 'As a data manager, I want to plan the anonymization of data', 'Benefit': 'we protect the privacy of the people participating in the research as good as possible and still ensure reusability of data', 'Triggers': {'Main Part': [['data manager', 'plan']], 'Benefit': []}, 'Targets': {'Main Part': [['plan', 'anonymization of data']], 'Benefit': [['participating', 'research'], ['still ensure', 'reusability of data'], ['protect', 'privacy']]}, 'Contains': {'Main Part': [], 'Benefit': [['people', 'privacy']]}}, {'PID': '#G22#', 'USID': '1306', 'Text': 'As a repository manager, I want to have metadata in additional languages, so that I can allow for multilingual data archive.', 'Main Part': 'As a repository manager, I want to have metadata in additional languages', 'Benefit': 'I can allow for multilingual data archive', 'Triggers': {'Main Part': [['repository manager', 'have']], 'Benefit': []}, 'Targets': {'Main Part': [['have', 'metadata']], 'Benefit': [['allow', 'multilingual data archive']]}, 'Contains': {'Main Part': [['metadata', 'additional languages']], 'Benefit': []}}, {'PID': '#G22#', 'USID': '1307', 'Text': 'As a data manager, I want to know whether the DMP was approved, so that I can proceed with the required next steps.', 'Main Part': 'As a data manager, I want to know whether the DMP was approved', 'Benefit': 'I can proceed with the required next steps', 'Triggers': {'Main Part': [['data manager', 'know']], 'Benefit': []}, 'Targets': {'Main Part': [], 'Benefit': [['approved', 'DMP'], ['proceed', 'required next steps']]}, 'Contains': {'Main Part': [], 'Benefit': []}}]\n"
     ]
    }
   ],
   "source": [
    "not_processed_datasets_annotations: dict[str, list] = loading()\n",
    "datasets_annotations, ignored_items = convert_annotation_dataset(not_processed_datasets_annotations)\n",
    "\n",
    "g19_annotations = datasets_annotations[\"g19\"]\n",
    "g22_annotations = datasets_annotations[\"g22\"]\n",
    "print(g22_annotations)"
   ]
  },
  {
   "cell_type": "markdown",
   "metadata": {},
   "source": [
    "## Getting the non-/overlaps between graph transformation approach and llm"
   ]
  },
  {
   "cell_type": "code",
   "execution_count": null,
   "metadata": {},
   "outputs": [],
   "source": [
    "strict_llm_results_annotations: OrderedSet = OrderedSet() # value is the pair numbers with redundancy type\n",
    "\n",
    "if True:\n",
    "    tp_main_part:int = 0\n",
    "    fp_main_part:int = 0\n",
    "    fn_main_part:int = 0\n",
    "    tn_main_part:int = 0\n",
    "    \n",
    "    tp_benefit:int = 0\n",
    "    fp_benefit:int = 0\n",
    "    fn_benefit:int = 0\n",
    "    tn_benefit:int = 0\n",
    "    \n",
    "    \n",
    "    filtered_rows: pd.DataFrame = None\n",
    "    entries_in_filtered_row: int = 0\n",
    "    usid1: int = 0\n",
    "    usid2: int = 0\n",
    "    usid_redundancy_key: str = \"\"\n",
    "    temp_list: list[dict[str, dict]] = []\n",
    "    convertable_gt_system_output: dict = {}\n",
    "    for dataset in gpt_results_annotations.values():\n",
    "        for dataset_key, array in dataset.items():\n",
    "            for llm_detection_values in array:\n",
    "                usid1, usid2 = llm_detection_values[\"relatedStories\"]\n",
    "                filtered_rows = excel_data_graph_approach[\n",
    "                        (excel_data_graph_approach['USID 1'].astype(int) == int(usid1)) \n",
    "                        & (excel_data_graph_approach['USID 2'].astype(int) == int(usid2))\n",
    "                    ]\n",
    "                if filtered_rows.empty:\n",
    "                    filtered_rows = excel_data_graph_approach[\n",
    "                        (excel_data_graph_approach['USID 2'].astype(int) == int(usid1)) \n",
    "                        & (excel_data_graph_approach['USID 1'].astype(int) == int(usid2))\n",
    "                    ]\n",
    "                    \n",
    "                entries_in_filtered_row = len(filtered_rows)\n",
    "                if  entries_in_filtered_row > 1:\n",
    "                    raise ValueError(f\"For {item[0]}, multiple entries in the excel file were found.\")\n",
    "                \n",
    "                temp = \"\"\n",
    "                if (not bool(filtered_rows.iloc[0][\"Main Part Partial\"]) \n",
    "\t\t            and not bool(filtered_rows.iloc[0][\"Main Part Full\"])):\n",
    "                    if (bool(llm_detection_values[\"mainPartRedundancies\"][\"partialRedundancy\"])\n",
    "                            or bool(llm_detection_values[\"mainPartRedundancies\"][\"fullRedundancy\"])):\n",
    "                        fp_main_part += 1\n",
    "                        temp += \"main part,fp\"\n",
    "                    else:\n",
    "                        tn_main_part += 1\n",
    "                        temp += \"main part,tn\"\n",
    "                else: \n",
    "                    if (bool(llm_detection_values[\"mainPartRedundancies\"][\"partialRedundancy\"])\n",
    "                            or bool(llm_detection_values[\"mainPartRedundancies\"][\"fullRedundancy\"])):\n",
    "                        tp_main_part += 1\n",
    "                        temp += \"main part,tp\"\n",
    "                    else:\n",
    "                        fn_main_part += 1\n",
    "                        temp += \"main part,fn\"\n",
    "                \n",
    "                if len(temp) > 0:\n",
    "                    temp += \",\"\n",
    "                \n",
    "                \n",
    "                if (not bool(filtered_rows.iloc[0][\"Benefit Partial\"]) \n",
    "                    and not bool(filtered_rows.iloc[0][\"Benefit Full\"])):\n",
    "                    if (bool(llm_detection_values[\"benefitRedundancies\"][\"partialRedundancy\"])\n",
    "                            or bool(llm_detection_values[\"benefitRedundancies\"][\"fullRedundancy\"])):\n",
    "                        fp_benefit += 1\n",
    "                        temp += \"benefit,fp\"\n",
    "                    else:\n",
    "                        tn_benefit += 1\n",
    "                        temp += \"benefit,tn\"\n",
    "                else: \n",
    "                    if (bool(llm_detection_values[\"benefitRedundancies\"][\"partialRedundancy\"])\n",
    "                            or bool(llm_detection_values[\"benefitRedundancies\"][\"fullRedundancy\"])):\n",
    "                        tp_benefit += 1\n",
    "                        temp += \"benefit,tp\"\n",
    "                    else:\n",
    "                        fn_benefit += 1\n",
    "                        temp += \"benefit,fn\"\n",
    "                        \n",
    "                if len(temp) > 0:\n",
    "                    temp = f\"{usid1},{usid2},{temp}\"\n",
    "                    strict_llm_results_annotations.add(temp)                                \n",
    "                \n",
    "                filtered_rows = None\n",
    "                entries_in_filtered_row = None\n",
    "                usid1 = None\n",
    "                usid2 = None\n",
    "                usid_redundancy_key = None\n",
    "            temp_list = None\n",
    "    print(\"Main Part:,{},{},{},{}\".format(tp_main_part, fp_main_part, tn_main_part,fn_main_part))\n",
    "    print(\"Benefit:,{},{},{},{}\".format(tp_benefit, fp_benefit, tn_benefit,fn_benefit))"
   ]
  },
  {
   "cell_type": "code",
   "execution_count": null,
   "metadata": {},
   "outputs": [
    {
     "data": {
      "text/plain": [
       "393"
      ]
     },
     "execution_count": 26,
     "metadata": {},
     "output_type": "execute_result"
    }
   ],
   "source": [
    "# print here all the data"
   ]
  }
 ],
 "metadata": {
  "kernelspec": {
   "display_name": "Python 3 (ipykernel)",
   "language": "python",
   "name": "python3"
  },
  "language_info": {
   "codemirror_mode": {
    "name": "ipython",
    "version": 3
   },
   "file_extension": ".py",
   "mimetype": "text/x-python",
   "name": "python",
   "nbconvert_exporter": "python",
   "pygments_lexer": "ipython3",
   "version": "3.12.5"
  }
 },
 "nbformat": 4,
 "nbformat_minor": 2
}
